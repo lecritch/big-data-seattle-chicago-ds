{
 "cells": [
  {
   "cell_type": "markdown",
   "metadata": {},
   "source": [
    "# Spark: Getting Started"
   ]
  },
  {
   "cell_type": "markdown",
   "metadata": {},
   "source": [
    "\n",
    "## Step 0: Prerequisites & Installation\n",
    "\n",
    "Follow [these instructions](https://docs.databricks.com/notebooks/notebooks-manage.html#import-a-notebook) to import this notebook into Databricks\n",
    "\n",
    "Run these commands in your terminal (just once) if you want to run Spark locally.\n",
    "\n",
    " * These instructions require a Mac with [Anaconda3](https://anaconda.com/) and [Homebrew](https://brew.sh/) installed.\n",
    " * Useful for small data only. For larger data, try [Databricks](https://databricks.com/).\n",
    "\n",
    "```bash\n",
    "# Make Homebrew aware of old versions of casks\n",
    "brew tap caskroom/versions\n",
    "\n",
    "# Install Java 1.8 (OpenJDK 8)\n",
    "brew cask install adoptopenjdk8\n",
    "\n",
    "# Install the current version of Spark\n",
    "brew install apache-spark\n",
    "\n",
    "# Install Py4J (connects PySpark to the Java Virtual Machine)\n",
    "pip install py4j\n",
    "\n",
    "# Add JAVA_HOME to .bash_profile (makes Java 1.8 your default JVM)\n",
    "echo \"\\n# Apache Spark\\nexport JAVA_HOME=$(/usr/libexec/java_home -v 1.8)\" >> ~/.bash_profile\n",
    "\n",
    "# Add SPARK_HOME to .bash_profile\n",
    "echo \"\\nexport SPARK_HOME=/usr/local/Cellar/apache-spark/2.4.5/libexec\" >> ~/.bash_profile\n",
    "\n",
    "# Add PySpark to PYTHONPATH in .bash_profile\n",
    "echo \"\\nexport PYTHONPATH=$SPARK_HOME/python:$PYTHONPATH\" >> ~/.bash_profile\n",
    "\n",
    "# Update current environment\n",
    "source ~/.bash_profile\n",
    "\n",
    "```"
   ]
  },
  {
   "cell_type": "markdown",
   "metadata": {},
   "source": [
    "## Step 1: Create a SparkSession with a SparkContext"
   ]
  },
  {
   "cell_type": "code",
   "execution_count": 3,
   "metadata": {},
   "outputs": [],
   "source": [
    "import pyspark\n",
    "\n",
    "# un-comment the following lines if you are running Spark locally\n",
    "spark = pyspark.sql.SparkSession.builder.getOrCreate()\n",
    "sc = spark.sparkContext"
   ]
  },
  {
   "cell_type": "code",
   "execution_count": 4,
   "metadata": {},
   "outputs": [
    {
     "data": {
      "text/html": [
       "\n",
       "            <div>\n",
       "                <p><b>SparkSession - in-memory</b></p>\n",
       "                \n",
       "        <div>\n",
       "            <p><b>SparkContext</b></p>\n",
       "\n",
       "            <p><a href=\"http://192.168.1.8:4040\">Spark UI</a></p>\n",
       "\n",
       "            <dl>\n",
       "              <dt>Version</dt>\n",
       "                <dd><code>v2.4.4</code></dd>\n",
       "              <dt>Master</dt>\n",
       "                <dd><code>local[*]</code></dd>\n",
       "              <dt>AppName</dt>\n",
       "                <dd><code>pyspark-shell</code></dd>\n",
       "            </dl>\n",
       "        </div>\n",
       "        \n",
       "            </div>\n",
       "        "
      ],
      "text/plain": [
       "<pyspark.sql.session.SparkSession at 0x104bbef98>"
      ]
     },
     "execution_count": 4,
     "metadata": {},
     "output_type": "execute_result"
    }
   ],
   "source": [
    "spark"
   ]
  },
  {
   "cell_type": "code",
   "execution_count": 5,
   "metadata": {
    "scrolled": true
   },
   "outputs": [
    {
     "data": {
      "text/html": [
       "\n",
       "        <div>\n",
       "            <p><b>SparkContext</b></p>\n",
       "\n",
       "            <p><a href=\"http://192.168.1.8:4040\">Spark UI</a></p>\n",
       "\n",
       "            <dl>\n",
       "              <dt>Version</dt>\n",
       "                <dd><code>v2.4.4</code></dd>\n",
       "              <dt>Master</dt>\n",
       "                <dd><code>local[*]</code></dd>\n",
       "              <dt>AppName</dt>\n",
       "                <dd><code>pyspark-shell</code></dd>\n",
       "            </dl>\n",
       "        </div>\n",
       "        "
      ],
      "text/plain": [
       "<SparkContext master=local[*] appName=pyspark-shell>"
      ]
     },
     "execution_count": 5,
     "metadata": {},
     "output_type": "execute_result"
    }
   ],
   "source": [
    "sc"
   ]
  },
  {
   "cell_type": "markdown",
   "metadata": {},
   "source": [
    "If we need a broadcast (i.e. global) variable, we can declare it like so:"
   ]
  },
  {
   "cell_type": "code",
   "execution_count": 6,
   "metadata": {},
   "outputs": [
    {
     "data": {
      "text/plain": [
       "[1, 2]"
      ]
     },
     "execution_count": 6,
     "metadata": {},
     "output_type": "execute_result"
    }
   ],
   "source": [
    "glob = sc.broadcast(list(range(1, 3)))\n",
    "glob.value"
   ]
  },
  {
   "cell_type": "markdown",
   "metadata": {},
   "source": [
    "## Step 2: Download some Amazon reviews (Toys & Games)"
   ]
  },
  {
   "cell_type": "code",
   "execution_count": 8,
   "metadata": {},
   "outputs": [
    {
     "name": "stdout",
     "output_type": "stream",
     "text": [
      "--2020-07-23 09:08:29--  http://snap.stanford.edu/data/amazon/productGraph/categoryFiles/reviews_Toys_and_Games_5.json.gz\n",
      "Resolving snap.stanford.edu (snap.stanford.edu)... 171.64.75.80\n",
      "Connecting to snap.stanford.edu (snap.stanford.edu)|171.64.75.80|:80... connected.\n",
      "HTTP request sent, awaiting response... 200 OK\n",
      "Length: 42057555 (40M) [application/x-gzip]\n",
      "Saving to: ‘reviews_Toys_and_Games_5.json.gz’\n",
      "\n",
      "reviews_Toys_and_Ga 100%[===================>]  40.11M  6.28MB/s    in 6.3s    \n",
      "\n",
      "2020-07-23 09:08:36 (6.39 MB/s) - ‘reviews_Toys_and_Games_5.json.gz’ saved [42057555/42057555]\n",
      "\n"
     ]
    }
   ],
   "source": [
    "# Data is already in the repo, but you can also get it with\n",
    "!wget http://snap.stanford.edu/data/amazon/productGraph/categoryFiles/reviews_Toys_and_Games_5.json.gz\n",
    "!gunzip reviews_Toys_and_Games_5.json.gz"
   ]
  },
  {
   "cell_type": "markdown",
   "metadata": {},
   "source": [
    "Follow [these instructions](https://docs.databricks.com/data/data.html#import-data-1) to import `reviews_Toys_and_Games_5.json` into Databricks"
   ]
  },
  {
   "cell_type": "markdown",
   "metadata": {},
   "source": [
    "## Step 3: Create a Spark DataFrame"
   ]
  },
  {
   "cell_type": "code",
   "execution_count": 10,
   "metadata": {},
   "outputs": [],
   "source": [
    "# this file path will be different if you are running Spark locally\n",
    "df = spark.read.json('reviews_Toys_and_Games_5.json')"
   ]
  },
  {
   "cell_type": "code",
   "execution_count": 11,
   "metadata": {},
   "outputs": [
    {
     "data": {
      "text/plain": [
       "DataFrame[asin: string, helpful: array<bigint>, overall: double, reviewText: string, reviewTime: string, reviewerID: string, reviewerName: string, summary: string, unixReviewTime: bigint]"
      ]
     },
     "execution_count": 11,
     "metadata": {},
     "output_type": "execute_result"
    }
   ],
   "source": [
    "df.persist()"
   ]
  },
  {
   "cell_type": "markdown",
   "metadata": {},
   "source": [
    "This last command, `.persist()`, simply stores the DataFrame in memory. See [this page](https://unraveldata.com/to-cache-or-not-to-cache/). It is similar to `.cache()`, but actually more flexible than the latter since you can specify which storage level you want. See [here](https://stackoverflow.com/questions/26870537/what-is-the-difference-between-cache-and-persist)."
   ]
  },
  {
   "cell_type": "code",
   "execution_count": 12,
   "metadata": {},
   "outputs": [
    {
     "data": {
      "text/plain": [
       "pyspark.sql.dataframe.DataFrame"
      ]
     },
     "execution_count": 12,
     "metadata": {},
     "output_type": "execute_result"
    }
   ],
   "source": [
    "type(df)"
   ]
  },
  {
   "cell_type": "code",
   "execution_count": 13,
   "metadata": {},
   "outputs": [
    {
     "name": "stdout",
     "output_type": "stream",
     "text": [
      "+----------+-------+-------+--------------------+-----------+--------------+--------------+--------------------+--------------+\n",
      "|      asin|helpful|overall|          reviewText| reviewTime|    reviewerID|  reviewerName|             summary|unixReviewTime|\n",
      "+----------+-------+-------+--------------------+-----------+--------------+--------------+--------------------+--------------+\n",
      "|0439893577| [0, 0]|    5.0|I like the item p...|01 29, 2014|A1VXOAVRGKGEAK|         Angie|      Magnetic board|    1390953600|\n",
      "|0439893577| [1, 1]|    4.0|Love the magnet e...|03 28, 2014| A8R62G708TSCM|       Candace|it works pretty g...|    1395964800|\n",
      "|0439893577| [1, 1]|    5.0|Both sides are ma...|01 28, 2013|A21KH420DK0ICA|capemaychristy|          love this!|    1359331200|\n",
      "|0439893577| [0, 0]|    5.0|Bought one a few ...| 02 8, 2014| AR29QK6HPFYZ4|          dcrm|   Daughters love it|    1391817600|\n",
      "|0439893577| [1, 1]|    4.0|I have a stainles...| 05 5, 2014| ACCH8EOML6FN5|          DoyZ|Great to have so ...|    1399248000|\n",
      "+----------+-------+-------+--------------------+-----------+--------------+--------------+--------------------+--------------+\n",
      "only showing top 5 rows\n",
      "\n"
     ]
    }
   ],
   "source": [
    "df.show(5) # default of 20 lines"
   ]
  },
  {
   "cell_type": "code",
   "execution_count": 14,
   "metadata": {},
   "outputs": [
    {
     "data": {
      "text/html": [
       "<div>\n",
       "<style scoped>\n",
       "    .dataframe tbody tr th:only-of-type {\n",
       "        vertical-align: middle;\n",
       "    }\n",
       "\n",
       "    .dataframe tbody tr th {\n",
       "        vertical-align: top;\n",
       "    }\n",
       "\n",
       "    .dataframe thead th {\n",
       "        text-align: right;\n",
       "    }\n",
       "</style>\n",
       "<table border=\"1\" class=\"dataframe\">\n",
       "  <thead>\n",
       "    <tr style=\"text-align: right;\">\n",
       "      <th></th>\n",
       "      <th>asin</th>\n",
       "      <th>helpful</th>\n",
       "      <th>overall</th>\n",
       "      <th>reviewText</th>\n",
       "      <th>reviewTime</th>\n",
       "      <th>reviewerID</th>\n",
       "      <th>reviewerName</th>\n",
       "      <th>summary</th>\n",
       "      <th>unixReviewTime</th>\n",
       "    </tr>\n",
       "  </thead>\n",
       "  <tbody>\n",
       "    <tr>\n",
       "      <td>0</td>\n",
       "      <td>0439893577</td>\n",
       "      <td>[0, 0]</td>\n",
       "      <td>5.0</td>\n",
       "      <td>I like the item pricing. My granddaughter want...</td>\n",
       "      <td>01 29, 2014</td>\n",
       "      <td>A1VXOAVRGKGEAK</td>\n",
       "      <td>Angie</td>\n",
       "      <td>Magnetic board</td>\n",
       "      <td>1390953600</td>\n",
       "    </tr>\n",
       "    <tr>\n",
       "      <td>1</td>\n",
       "      <td>0439893577</td>\n",
       "      <td>[1, 1]</td>\n",
       "      <td>4.0</td>\n",
       "      <td>Love the magnet easel... great for moving to d...</td>\n",
       "      <td>03 28, 2014</td>\n",
       "      <td>A8R62G708TSCM</td>\n",
       "      <td>Candace</td>\n",
       "      <td>it works pretty good for moving to different a...</td>\n",
       "      <td>1395964800</td>\n",
       "    </tr>\n",
       "    <tr>\n",
       "      <td>2</td>\n",
       "      <td>0439893577</td>\n",
       "      <td>[1, 1]</td>\n",
       "      <td>5.0</td>\n",
       "      <td>Both sides are magnetic.  A real plus when you...</td>\n",
       "      <td>01 28, 2013</td>\n",
       "      <td>A21KH420DK0ICA</td>\n",
       "      <td>capemaychristy</td>\n",
       "      <td>love this!</td>\n",
       "      <td>1359331200</td>\n",
       "    </tr>\n",
       "    <tr>\n",
       "      <td>3</td>\n",
       "      <td>0439893577</td>\n",
       "      <td>[0, 0]</td>\n",
       "      <td>5.0</td>\n",
       "      <td>Bought one a few years ago for my daughter and...</td>\n",
       "      <td>02 8, 2014</td>\n",
       "      <td>AR29QK6HPFYZ4</td>\n",
       "      <td>dcrm</td>\n",
       "      <td>Daughters love it</td>\n",
       "      <td>1391817600</td>\n",
       "    </tr>\n",
       "    <tr>\n",
       "      <td>4</td>\n",
       "      <td>0439893577</td>\n",
       "      <td>[1, 1]</td>\n",
       "      <td>4.0</td>\n",
       "      <td>I have a stainless steel refrigerator therefor...</td>\n",
       "      <td>05 5, 2014</td>\n",
       "      <td>ACCH8EOML6FN5</td>\n",
       "      <td>DoyZ</td>\n",
       "      <td>Great to have so he can play with his alphabet...</td>\n",
       "      <td>1399248000</td>\n",
       "    </tr>\n",
       "  </tbody>\n",
       "</table>\n",
       "</div>"
      ],
      "text/plain": [
       "         asin helpful  overall  \\\n",
       "0  0439893577  [0, 0]      5.0   \n",
       "1  0439893577  [1, 1]      4.0   \n",
       "2  0439893577  [1, 1]      5.0   \n",
       "3  0439893577  [0, 0]      5.0   \n",
       "4  0439893577  [1, 1]      4.0   \n",
       "\n",
       "                                          reviewText   reviewTime  \\\n",
       "0  I like the item pricing. My granddaughter want...  01 29, 2014   \n",
       "1  Love the magnet easel... great for moving to d...  03 28, 2014   \n",
       "2  Both sides are magnetic.  A real plus when you...  01 28, 2013   \n",
       "3  Bought one a few years ago for my daughter and...   02 8, 2014   \n",
       "4  I have a stainless steel refrigerator therefor...   05 5, 2014   \n",
       "\n",
       "       reviewerID    reviewerName  \\\n",
       "0  A1VXOAVRGKGEAK           Angie   \n",
       "1   A8R62G708TSCM         Candace   \n",
       "2  A21KH420DK0ICA  capemaychristy   \n",
       "3   AR29QK6HPFYZ4            dcrm   \n",
       "4   ACCH8EOML6FN5            DoyZ   \n",
       "\n",
       "                                             summary  unixReviewTime  \n",
       "0                                     Magnetic board      1390953600  \n",
       "1  it works pretty good for moving to different a...      1395964800  \n",
       "2                                         love this!      1359331200  \n",
       "3                                  Daughters love it      1391817600  \n",
       "4  Great to have so he can play with his alphabet...      1399248000  "
      ]
     },
     "execution_count": 14,
     "metadata": {},
     "output_type": "execute_result"
    }
   ],
   "source": [
    "pdf = df.limit(5).toPandas()\n",
    "pdf"
   ]
  },
  {
   "cell_type": "code",
   "execution_count": 15,
   "metadata": {},
   "outputs": [
    {
     "data": {
      "text/plain": [
       "pandas.core.frame.DataFrame"
      ]
     },
     "execution_count": 15,
     "metadata": {},
     "output_type": "execute_result"
    }
   ],
   "source": [
    "type(pdf)"
   ]
  },
  {
   "cell_type": "code",
   "execution_count": 16,
   "metadata": {},
   "outputs": [
    {
     "data": {
      "text/plain": [
       "167597"
      ]
     },
     "execution_count": 16,
     "metadata": {},
     "output_type": "execute_result"
    }
   ],
   "source": [
    "df.count()"
   ]
  },
  {
   "cell_type": "code",
   "execution_count": 17,
   "metadata": {},
   "outputs": [
    {
     "data": {
      "text/plain": [
       "['asin',\n",
       " 'helpful',\n",
       " 'overall',\n",
       " 'reviewText',\n",
       " 'reviewTime',\n",
       " 'reviewerID',\n",
       " 'reviewerName',\n",
       " 'summary',\n",
       " 'unixReviewTime']"
      ]
     },
     "execution_count": 17,
     "metadata": {},
     "output_type": "execute_result"
    }
   ],
   "source": [
    "df.columns"
   ]
  },
  {
   "cell_type": "code",
   "execution_count": 18,
   "metadata": {},
   "outputs": [
    {
     "name": "stdout",
     "output_type": "stream",
     "text": [
      "root\n",
      " |-- asin: string (nullable = true)\n",
      " |-- helpful: array (nullable = true)\n",
      " |    |-- element: long (containsNull = true)\n",
      " |-- overall: double (nullable = true)\n",
      " |-- reviewText: string (nullable = true)\n",
      " |-- reviewTime: string (nullable = true)\n",
      " |-- reviewerID: string (nullable = true)\n",
      " |-- reviewerName: string (nullable = true)\n",
      " |-- summary: string (nullable = true)\n",
      " |-- unixReviewTime: long (nullable = true)\n",
      "\n"
     ]
    }
   ],
   "source": [
    "df.printSchema()"
   ]
  },
  {
   "cell_type": "markdown",
   "metadata": {},
   "source": [
    "The 'nullable = true' bit means that the relevant column tolerates null values."
   ]
  },
  {
   "cell_type": "code",
   "execution_count": 19,
   "metadata": {},
   "outputs": [
    {
     "name": "stdout",
     "output_type": "stream",
     "text": [
      "+-------+--------------------+------------------+--------------------+----------+--------------------+--------------------+--------------------+--------------------+\n",
      "|summary|                asin|           overall|          reviewText|reviewTime|          reviewerID|        reviewerName|             summary|      unixReviewTime|\n",
      "+-------+--------------------+------------------+--------------------+----------+--------------------+--------------------+--------------------+--------------------+\n",
      "|  count|              167597|            167597|              167597|    167597|              167597|              166759|              167597|              167597|\n",
      "|   mean|2.1290876613696043E9| 4.356307093802395|                null|      null|                null|   474.1111111111111|               600.0|1.3487585072095563E9|\n",
      "| stddev|2.1305790004603045E9|0.9935012992132014|                null|      null|                null|   517.0615833762786|                 NaN| 6.089580845001178E7|\n",
      "|    min|          0439893577|               1.0|                    |01 1, 2001|A012468118FTQAINE...|                    |     !  Just Junk  !|           964742400|\n",
      "|    max|          B00LBI9BKA|               5.0|~the RED \"B/2\" bl...|12 9, 2013|       AZZYW4YOE1B6E|~purplemoon~ \"The...|~My 9 year old sp...|          1406073600|\n",
      "+-------+--------------------+------------------+--------------------+----------+--------------------+--------------------+--------------------+--------------------+\n",
      "\n"
     ]
    }
   ],
   "source": [
    "df.describe().show()"
   ]
  },
  {
   "cell_type": "code",
   "execution_count": 20,
   "metadata": {},
   "outputs": [
    {
     "name": "stdout",
     "output_type": "stream",
     "text": [
      "+-------+------------------+\n",
      "|summary|           overall|\n",
      "+-------+------------------+\n",
      "|  count|            167597|\n",
      "|   mean| 4.356307093802395|\n",
      "| stddev|0.9935012992132014|\n",
      "|    min|               1.0|\n",
      "|    max|               5.0|\n",
      "+-------+------------------+\n",
      "\n"
     ]
    }
   ],
   "source": [
    "df.describe('overall').show()"
   ]
  },
  {
   "cell_type": "code",
   "execution_count": 21,
   "metadata": {},
   "outputs": [],
   "source": [
    "reviews_df = df[['asin', 'overall']]"
   ]
  },
  {
   "cell_type": "code",
   "execution_count": 22,
   "metadata": {},
   "outputs": [
    {
     "name": "stdout",
     "output_type": "stream",
     "text": [
      "+----------+-------+\n",
      "|      asin|overall|\n",
      "+----------+-------+\n",
      "|0439893577|    5.0|\n",
      "|0439893577|    4.0|\n",
      "|0439893577|    5.0|\n",
      "|0439893577|    5.0|\n",
      "|0439893577|    4.0|\n",
      "|0439893577|    3.0|\n",
      "|0439893577|    3.0|\n",
      "|0439893577|    5.0|\n",
      "|0439893577|    4.0|\n",
      "|0439893577|    3.0|\n",
      "|0439893577|    5.0|\n",
      "|0439893577|    5.0|\n",
      "|0439893577|    3.0|\n",
      "|0439893577|    5.0|\n",
      "|0439893577|    5.0|\n",
      "|0439893577|    5.0|\n",
      "|0439893577|    5.0|\n",
      "|048645195X|    5.0|\n",
      "|048645195X|    4.0|\n",
      "|048645195X|    5.0|\n",
      "+----------+-------+\n",
      "only showing top 20 rows\n",
      "\n"
     ]
    }
   ],
   "source": [
    "reviews_df.show()"
   ]
  },
  {
   "cell_type": "code",
   "execution_count": 23,
   "metadata": {},
   "outputs": [],
   "source": [
    "def show(df, n=5):\n",
    "    return df.limit(n).toPandas()"
   ]
  },
  {
   "cell_type": "code",
   "execution_count": 24,
   "metadata": {},
   "outputs": [
    {
     "data": {
      "text/html": [
       "<div>\n",
       "<style scoped>\n",
       "    .dataframe tbody tr th:only-of-type {\n",
       "        vertical-align: middle;\n",
       "    }\n",
       "\n",
       "    .dataframe tbody tr th {\n",
       "        vertical-align: top;\n",
       "    }\n",
       "\n",
       "    .dataframe thead th {\n",
       "        text-align: right;\n",
       "    }\n",
       "</style>\n",
       "<table border=\"1\" class=\"dataframe\">\n",
       "  <thead>\n",
       "    <tr style=\"text-align: right;\">\n",
       "      <th></th>\n",
       "      <th>asin</th>\n",
       "      <th>overall</th>\n",
       "    </tr>\n",
       "  </thead>\n",
       "  <tbody>\n",
       "    <tr>\n",
       "      <td>0</td>\n",
       "      <td>0439893577</td>\n",
       "      <td>5.0</td>\n",
       "    </tr>\n",
       "    <tr>\n",
       "      <td>1</td>\n",
       "      <td>0439893577</td>\n",
       "      <td>4.0</td>\n",
       "    </tr>\n",
       "    <tr>\n",
       "      <td>2</td>\n",
       "      <td>0439893577</td>\n",
       "      <td>5.0</td>\n",
       "    </tr>\n",
       "    <tr>\n",
       "      <td>3</td>\n",
       "      <td>0439893577</td>\n",
       "      <td>5.0</td>\n",
       "    </tr>\n",
       "    <tr>\n",
       "      <td>4</td>\n",
       "      <td>0439893577</td>\n",
       "      <td>4.0</td>\n",
       "    </tr>\n",
       "  </tbody>\n",
       "</table>\n",
       "</div>"
      ],
      "text/plain": [
       "         asin  overall\n",
       "0  0439893577      5.0\n",
       "1  0439893577      4.0\n",
       "2  0439893577      5.0\n",
       "3  0439893577      5.0\n",
       "4  0439893577      4.0"
      ]
     },
     "execution_count": 24,
     "metadata": {},
     "output_type": "execute_result"
    }
   ],
   "source": [
    "show(reviews_df)"
   ]
  },
  {
   "cell_type": "code",
   "execution_count": 25,
   "metadata": {},
   "outputs": [
    {
     "data": {
      "text/plain": [
       "167597"
      ]
     },
     "execution_count": 25,
     "metadata": {},
     "output_type": "execute_result"
    }
   ],
   "source": [
    "reviews_df.count()"
   ]
  },
  {
   "cell_type": "code",
   "execution_count": 26,
   "metadata": {},
   "outputs": [],
   "source": [
    "sorted_review_df = reviews_df.sort('overall')"
   ]
  },
  {
   "cell_type": "code",
   "execution_count": 27,
   "metadata": {},
   "outputs": [
    {
     "data": {
      "text/html": [
       "<div>\n",
       "<style scoped>\n",
       "    .dataframe tbody tr th:only-of-type {\n",
       "        vertical-align: middle;\n",
       "    }\n",
       "\n",
       "    .dataframe tbody tr th {\n",
       "        vertical-align: top;\n",
       "    }\n",
       "\n",
       "    .dataframe thead th {\n",
       "        text-align: right;\n",
       "    }\n",
       "</style>\n",
       "<table border=\"1\" class=\"dataframe\">\n",
       "  <thead>\n",
       "    <tr style=\"text-align: right;\">\n",
       "      <th></th>\n",
       "      <th>asin</th>\n",
       "      <th>overall</th>\n",
       "    </tr>\n",
       "  </thead>\n",
       "  <tbody>\n",
       "    <tr>\n",
       "      <td>0</td>\n",
       "      <td>B008FD8ETS</td>\n",
       "      <td>1.0</td>\n",
       "    </tr>\n",
       "    <tr>\n",
       "      <td>1</td>\n",
       "      <td>B008FTF9PO</td>\n",
       "      <td>1.0</td>\n",
       "    </tr>\n",
       "    <tr>\n",
       "      <td>2</td>\n",
       "      <td>B008FD8ETS</td>\n",
       "      <td>1.0</td>\n",
       "    </tr>\n",
       "    <tr>\n",
       "      <td>3</td>\n",
       "      <td>B008FD1RL0</td>\n",
       "      <td>1.0</td>\n",
       "    </tr>\n",
       "    <tr>\n",
       "      <td>4</td>\n",
       "      <td>B008FD8ETS</td>\n",
       "      <td>1.0</td>\n",
       "    </tr>\n",
       "  </tbody>\n",
       "</table>\n",
       "</div>"
      ],
      "text/plain": [
       "         asin  overall\n",
       "0  B008FD8ETS      1.0\n",
       "1  B008FTF9PO      1.0\n",
       "2  B008FD8ETS      1.0\n",
       "3  B008FD1RL0      1.0\n",
       "4  B008FD8ETS      1.0"
      ]
     },
     "execution_count": 27,
     "metadata": {},
     "output_type": "execute_result"
    }
   ],
   "source": [
    "show(sorted_review_df)"
   ]
  },
  {
   "cell_type": "code",
   "execution_count": 28,
   "metadata": {},
   "outputs": [],
   "source": [
    "import pyspark.sql.functions as F"
   ]
  },
  {
   "cell_type": "code",
   "execution_count": 29,
   "metadata": {},
   "outputs": [],
   "source": [
    "counts = reviews_df.agg(F.countDistinct('overall'))"
   ]
  },
  {
   "cell_type": "code",
   "execution_count": 30,
   "metadata": {},
   "outputs": [
    {
     "name": "stdout",
     "output_type": "stream",
     "text": [
      "+-----------------------+\n",
      "|count(DISTINCT overall)|\n",
      "+-----------------------+\n",
      "|                      5|\n",
      "+-----------------------+\n",
      "\n"
     ]
    }
   ],
   "source": [
    "counts.show()"
   ]
  },
  {
   "cell_type": "code",
   "execution_count": 31,
   "metadata": {},
   "outputs": [],
   "source": [
    "query = \"\"\"\n",
    "SELECT overall, COUNT(*)\n",
    "FROM reviews\n",
    "GROUP BY overall\n",
    "ORDER BY overall\n",
    "\"\"\""
   ]
  },
  {
   "cell_type": "code",
   "execution_count": 32,
   "metadata": {},
   "outputs": [],
   "source": [
    "reviews_df.createOrReplaceTempView('reviews')"
   ]
  },
  {
   "cell_type": "code",
   "execution_count": 33,
   "metadata": {},
   "outputs": [],
   "source": [
    "output = spark.sql(query)"
   ]
  },
  {
   "cell_type": "code",
   "execution_count": 34,
   "metadata": {},
   "outputs": [
    {
     "data": {
      "text/html": [
       "<div>\n",
       "<style scoped>\n",
       "    .dataframe tbody tr th:only-of-type {\n",
       "        vertical-align: middle;\n",
       "    }\n",
       "\n",
       "    .dataframe tbody tr th {\n",
       "        vertical-align: top;\n",
       "    }\n",
       "\n",
       "    .dataframe thead th {\n",
       "        text-align: right;\n",
       "    }\n",
       "</style>\n",
       "<table border=\"1\" class=\"dataframe\">\n",
       "  <thead>\n",
       "    <tr style=\"text-align: right;\">\n",
       "      <th></th>\n",
       "      <th>overall</th>\n",
       "      <th>count(1)</th>\n",
       "    </tr>\n",
       "  </thead>\n",
       "  <tbody>\n",
       "    <tr>\n",
       "      <td>0</td>\n",
       "      <td>1.0</td>\n",
       "      <td>4707</td>\n",
       "    </tr>\n",
       "    <tr>\n",
       "      <td>1</td>\n",
       "      <td>2.0</td>\n",
       "      <td>6298</td>\n",
       "    </tr>\n",
       "    <tr>\n",
       "      <td>2</td>\n",
       "      <td>3.0</td>\n",
       "      <td>16357</td>\n",
       "    </tr>\n",
       "    <tr>\n",
       "      <td>3</td>\n",
       "      <td>4.0</td>\n",
       "      <td>37445</td>\n",
       "    </tr>\n",
       "    <tr>\n",
       "      <td>4</td>\n",
       "      <td>5.0</td>\n",
       "      <td>102790</td>\n",
       "    </tr>\n",
       "  </tbody>\n",
       "</table>\n",
       "</div>"
      ],
      "text/plain": [
       "   overall  count(1)\n",
       "0      1.0      4707\n",
       "1      2.0      6298\n",
       "2      3.0     16357\n",
       "3      4.0     37445\n",
       "4      5.0    102790"
      ]
     },
     "execution_count": 34,
     "metadata": {},
     "output_type": "execute_result"
    }
   ],
   "source": [
    "show(output)"
   ]
  },
  {
   "cell_type": "code",
   "execution_count": 35,
   "metadata": {},
   "outputs": [
    {
     "data": {
      "text/plain": [
       "[Row(overall=1.0, count(1)=4707),\n",
       " Row(overall=2.0, count(1)=6298),\n",
       " Row(overall=3.0, count(1)=16357),\n",
       " Row(overall=4.0, count(1)=37445),\n",
       " Row(overall=5.0, count(1)=102790)]"
      ]
     },
     "execution_count": 35,
     "metadata": {},
     "output_type": "execute_result"
    }
   ],
   "source": [
    "output.collect()"
   ]
  },
  {
   "cell_type": "code",
   "execution_count": 36,
   "metadata": {},
   "outputs": [
    {
     "data": {
      "text/plain": [
       "0"
      ]
     },
     "execution_count": 36,
     "metadata": {},
     "output_type": "execute_result"
    }
   ],
   "source": [
    "reviews_df.count() - sum(output.collect()[i][1] for i in range(5))"
   ]
  },
  {
   "cell_type": "code",
   "execution_count": 37,
   "metadata": {},
   "outputs": [
    {
     "data": {
      "text/plain": [
       "pyspark.sql.dataframe.DataFrame"
      ]
     },
     "execution_count": 37,
     "metadata": {},
     "output_type": "execute_result"
    }
   ],
   "source": [
    "type(reviews_df)"
   ]
  },
  {
   "cell_type": "markdown",
   "metadata": {},
   "source": [
    "Convert to RDD!"
   ]
  },
  {
   "cell_type": "code",
   "execution_count": 38,
   "metadata": {},
   "outputs": [
    {
     "data": {
      "text/plain": [
       "MapPartitionsRDD[120] at javaToPython at NativeMethodAccessorImpl.java:0"
      ]
     },
     "execution_count": 38,
     "metadata": {},
     "output_type": "execute_result"
    }
   ],
   "source": [
    "reviews_df.rdd"
   ]
  },
  {
   "cell_type": "code",
   "execution_count": 39,
   "metadata": {},
   "outputs": [
    {
     "data": {
      "text/plain": [
       "pyspark.rdd.RDD"
      ]
     },
     "execution_count": 39,
     "metadata": {},
     "output_type": "execute_result"
    }
   ],
   "source": [
    "type(reviews_df.rdd)"
   ]
  },
  {
   "cell_type": "markdown",
   "metadata": {},
   "source": [
    "### Count the words in the first row"
   ]
  },
  {
   "cell_type": "code",
   "execution_count": 40,
   "metadata": {},
   "outputs": [],
   "source": [
    "row_one = df.first()"
   ]
  },
  {
   "cell_type": "code",
   "execution_count": 41,
   "metadata": {},
   "outputs": [
    {
     "data": {
      "text/plain": [
       "Row(asin='0439893577', helpful=[0, 0], overall=5.0, reviewText='I like the item pricing. My granddaughter wanted to mark on it but I wanted it just for the letters.', reviewTime='01 29, 2014', reviewerID='A1VXOAVRGKGEAK', reviewerName='Angie', summary='Magnetic board', unixReviewTime=1390953600)"
      ]
     },
     "execution_count": 41,
     "metadata": {},
     "output_type": "execute_result"
    }
   ],
   "source": [
    "row_one"
   ]
  },
  {
   "cell_type": "code",
   "execution_count": 42,
   "metadata": {},
   "outputs": [],
   "source": [
    "def word_count(text):\n",
    "    return len(text.split())"
   ]
  },
  {
   "cell_type": "code",
   "execution_count": 43,
   "metadata": {},
   "outputs": [
    {
     "data": {
      "text/plain": [
       "20"
      ]
     },
     "execution_count": 43,
     "metadata": {},
     "output_type": "execute_result"
    }
   ],
   "source": [
    "word_count(row_one['reviewText'])"
   ]
  },
  {
   "cell_type": "code",
   "execution_count": 44,
   "metadata": {},
   "outputs": [],
   "source": [
    "from pyspark.sql.types import IntegerType\n",
    "\n",
    "#'udf' is for User Defined Function!\n",
    "\n",
    "word_count_udf = F.udf(word_count, returnType=IntegerType())"
   ]
  },
  {
   "cell_type": "code",
   "execution_count": 45,
   "metadata": {},
   "outputs": [],
   "source": [
    "review_text_col = df['reviewText']"
   ]
  },
  {
   "cell_type": "code",
   "execution_count": 46,
   "metadata": {},
   "outputs": [],
   "source": [
    "counts_df = df.withColumn('wordCount', word_count_udf(review_text_col))"
   ]
  },
  {
   "cell_type": "code",
   "execution_count": 47,
   "metadata": {
    "scrolled": true
   },
   "outputs": [
    {
     "data": {
      "text/html": [
       "<div>\n",
       "<style scoped>\n",
       "    .dataframe tbody tr th:only-of-type {\n",
       "        vertical-align: middle;\n",
       "    }\n",
       "\n",
       "    .dataframe tbody tr th {\n",
       "        vertical-align: top;\n",
       "    }\n",
       "\n",
       "    .dataframe thead th {\n",
       "        text-align: right;\n",
       "    }\n",
       "</style>\n",
       "<table border=\"1\" class=\"dataframe\">\n",
       "  <thead>\n",
       "    <tr style=\"text-align: right;\">\n",
       "      <th></th>\n",
       "      <th>0</th>\n",
       "      <th>1</th>\n",
       "      <th>2</th>\n",
       "      <th>3</th>\n",
       "      <th>4</th>\n",
       "    </tr>\n",
       "  </thead>\n",
       "  <tbody>\n",
       "    <tr>\n",
       "      <td>asin</td>\n",
       "      <td>0439893577</td>\n",
       "      <td>0439893577</td>\n",
       "      <td>0439893577</td>\n",
       "      <td>0439893577</td>\n",
       "      <td>0439893577</td>\n",
       "    </tr>\n",
       "    <tr>\n",
       "      <td>helpful</td>\n",
       "      <td>[0, 0]</td>\n",
       "      <td>[1, 1]</td>\n",
       "      <td>[1, 1]</td>\n",
       "      <td>[0, 0]</td>\n",
       "      <td>[1, 1]</td>\n",
       "    </tr>\n",
       "    <tr>\n",
       "      <td>overall</td>\n",
       "      <td>5</td>\n",
       "      <td>4</td>\n",
       "      <td>5</td>\n",
       "      <td>5</td>\n",
       "      <td>4</td>\n",
       "    </tr>\n",
       "    <tr>\n",
       "      <td>reviewText</td>\n",
       "      <td>I like the item pricing. My granddaughter want...</td>\n",
       "      <td>Love the magnet easel... great for moving to d...</td>\n",
       "      <td>Both sides are magnetic.  A real plus when you...</td>\n",
       "      <td>Bought one a few years ago for my daughter and...</td>\n",
       "      <td>I have a stainless steel refrigerator therefor...</td>\n",
       "    </tr>\n",
       "    <tr>\n",
       "      <td>reviewTime</td>\n",
       "      <td>01 29, 2014</td>\n",
       "      <td>03 28, 2014</td>\n",
       "      <td>01 28, 2013</td>\n",
       "      <td>02 8, 2014</td>\n",
       "      <td>05 5, 2014</td>\n",
       "    </tr>\n",
       "    <tr>\n",
       "      <td>reviewerID</td>\n",
       "      <td>A1VXOAVRGKGEAK</td>\n",
       "      <td>A8R62G708TSCM</td>\n",
       "      <td>A21KH420DK0ICA</td>\n",
       "      <td>AR29QK6HPFYZ4</td>\n",
       "      <td>ACCH8EOML6FN5</td>\n",
       "    </tr>\n",
       "    <tr>\n",
       "      <td>reviewerName</td>\n",
       "      <td>Angie</td>\n",
       "      <td>Candace</td>\n",
       "      <td>capemaychristy</td>\n",
       "      <td>dcrm</td>\n",
       "      <td>DoyZ</td>\n",
       "    </tr>\n",
       "    <tr>\n",
       "      <td>summary</td>\n",
       "      <td>Magnetic board</td>\n",
       "      <td>it works pretty good for moving to different a...</td>\n",
       "      <td>love this!</td>\n",
       "      <td>Daughters love it</td>\n",
       "      <td>Great to have so he can play with his alphabet...</td>\n",
       "    </tr>\n",
       "    <tr>\n",
       "      <td>unixReviewTime</td>\n",
       "      <td>1390953600</td>\n",
       "      <td>1395964800</td>\n",
       "      <td>1359331200</td>\n",
       "      <td>1391817600</td>\n",
       "      <td>1399248000</td>\n",
       "    </tr>\n",
       "    <tr>\n",
       "      <td>wordCount</td>\n",
       "      <td>20</td>\n",
       "      <td>22</td>\n",
       "      <td>76</td>\n",
       "      <td>31</td>\n",
       "      <td>47</td>\n",
       "    </tr>\n",
       "  </tbody>\n",
       "</table>\n",
       "</div>"
      ],
      "text/plain": [
       "                                                                0  \\\n",
       "asin                                                   0439893577   \n",
       "helpful                                                    [0, 0]   \n",
       "overall                                                         5   \n",
       "reviewText      I like the item pricing. My granddaughter want...   \n",
       "reviewTime                                            01 29, 2014   \n",
       "reviewerID                                         A1VXOAVRGKGEAK   \n",
       "reviewerName                                                Angie   \n",
       "summary                                            Magnetic board   \n",
       "unixReviewTime                                         1390953600   \n",
       "wordCount                                                      20   \n",
       "\n",
       "                                                                1  \\\n",
       "asin                                                   0439893577   \n",
       "helpful                                                    [1, 1]   \n",
       "overall                                                         4   \n",
       "reviewText      Love the magnet easel... great for moving to d...   \n",
       "reviewTime                                            03 28, 2014   \n",
       "reviewerID                                          A8R62G708TSCM   \n",
       "reviewerName                                              Candace   \n",
       "summary         it works pretty good for moving to different a...   \n",
       "unixReviewTime                                         1395964800   \n",
       "wordCount                                                      22   \n",
       "\n",
       "                                                                2  \\\n",
       "asin                                                   0439893577   \n",
       "helpful                                                    [1, 1]   \n",
       "overall                                                         5   \n",
       "reviewText      Both sides are magnetic.  A real plus when you...   \n",
       "reviewTime                                            01 28, 2013   \n",
       "reviewerID                                         A21KH420DK0ICA   \n",
       "reviewerName                                       capemaychristy   \n",
       "summary                                                love this!   \n",
       "unixReviewTime                                         1359331200   \n",
       "wordCount                                                      76   \n",
       "\n",
       "                                                                3  \\\n",
       "asin                                                   0439893577   \n",
       "helpful                                                    [0, 0]   \n",
       "overall                                                         5   \n",
       "reviewText      Bought one a few years ago for my daughter and...   \n",
       "reviewTime                                             02 8, 2014   \n",
       "reviewerID                                          AR29QK6HPFYZ4   \n",
       "reviewerName                                                 dcrm   \n",
       "summary                                         Daughters love it   \n",
       "unixReviewTime                                         1391817600   \n",
       "wordCount                                                      31   \n",
       "\n",
       "                                                                4  \n",
       "asin                                                   0439893577  \n",
       "helpful                                                    [1, 1]  \n",
       "overall                                                         4  \n",
       "reviewText      I have a stainless steel refrigerator therefor...  \n",
       "reviewTime                                             05 5, 2014  \n",
       "reviewerID                                          ACCH8EOML6FN5  \n",
       "reviewerName                                                 DoyZ  \n",
       "summary         Great to have so he can play with his alphabet...  \n",
       "unixReviewTime                                         1399248000  \n",
       "wordCount                                                      47  "
      ]
     },
     "execution_count": 47,
     "metadata": {},
     "output_type": "execute_result"
    }
   ],
   "source": [
    "# Remember that we set the default number of lines to show at 5.\n",
    "\n",
    "show(counts_df).T"
   ]
  },
  {
   "cell_type": "code",
   "execution_count": 48,
   "metadata": {},
   "outputs": [
    {
     "data": {
      "text/plain": [
       "<function __main__.word_count(text)>"
      ]
     },
     "execution_count": 48,
     "metadata": {},
     "output_type": "execute_result"
    }
   ],
   "source": [
    "from pyspark.sql.types import IntegerType\n",
    "word_count_udf = F.udf(word_count, IntegerType())\n",
    "\n",
    "# Registering our word_count() function so that we\n",
    "# can use it with SQL! See documentation here:\n",
    "# https://jaceklaskowski.gitbooks.io/mastering-spark-sql/spark-sql-UDFRegistration.html\n",
    "\n",
    "df.createOrReplaceTempView('reviews')\n",
    "spark.udf.register('word_count', word_count_udf)"
   ]
  },
  {
   "cell_type": "code",
   "execution_count": 49,
   "metadata": {},
   "outputs": [],
   "source": [
    "query = \"\"\"\n",
    "SELECT asin, overall, reviewText, word_count(reviewText) AS wordCount\n",
    "FROM reviews\n",
    "\"\"\""
   ]
  },
  {
   "cell_type": "code",
   "execution_count": 50,
   "metadata": {},
   "outputs": [],
   "source": [
    "counts_df = spark.sql(query)"
   ]
  },
  {
   "cell_type": "code",
   "execution_count": 51,
   "metadata": {},
   "outputs": [
    {
     "data": {
      "text/html": [
       "<div>\n",
       "<style scoped>\n",
       "    .dataframe tbody tr th:only-of-type {\n",
       "        vertical-align: middle;\n",
       "    }\n",
       "\n",
       "    .dataframe tbody tr th {\n",
       "        vertical-align: top;\n",
       "    }\n",
       "\n",
       "    .dataframe thead th {\n",
       "        text-align: right;\n",
       "    }\n",
       "</style>\n",
       "<table border=\"1\" class=\"dataframe\">\n",
       "  <thead>\n",
       "    <tr style=\"text-align: right;\">\n",
       "      <th></th>\n",
       "      <th>asin</th>\n",
       "      <th>overall</th>\n",
       "      <th>reviewText</th>\n",
       "      <th>wordCount</th>\n",
       "    </tr>\n",
       "  </thead>\n",
       "  <tbody>\n",
       "    <tr>\n",
       "      <td>0</td>\n",
       "      <td>0439893577</td>\n",
       "      <td>5.0</td>\n",
       "      <td>I like the item pricing. My granddaughter want...</td>\n",
       "      <td>20</td>\n",
       "    </tr>\n",
       "    <tr>\n",
       "      <td>1</td>\n",
       "      <td>0439893577</td>\n",
       "      <td>4.0</td>\n",
       "      <td>Love the magnet easel... great for moving to d...</td>\n",
       "      <td>22</td>\n",
       "    </tr>\n",
       "    <tr>\n",
       "      <td>2</td>\n",
       "      <td>0439893577</td>\n",
       "      <td>5.0</td>\n",
       "      <td>Both sides are magnetic.  A real plus when you...</td>\n",
       "      <td>76</td>\n",
       "    </tr>\n",
       "    <tr>\n",
       "      <td>3</td>\n",
       "      <td>0439893577</td>\n",
       "      <td>5.0</td>\n",
       "      <td>Bought one a few years ago for my daughter and...</td>\n",
       "      <td>31</td>\n",
       "    </tr>\n",
       "    <tr>\n",
       "      <td>4</td>\n",
       "      <td>0439893577</td>\n",
       "      <td>4.0</td>\n",
       "      <td>I have a stainless steel refrigerator therefor...</td>\n",
       "      <td>47</td>\n",
       "    </tr>\n",
       "  </tbody>\n",
       "</table>\n",
       "</div>"
      ],
      "text/plain": [
       "         asin  overall                                         reviewText  \\\n",
       "0  0439893577      5.0  I like the item pricing. My granddaughter want...   \n",
       "1  0439893577      4.0  Love the magnet easel... great for moving to d...   \n",
       "2  0439893577      5.0  Both sides are magnetic.  A real plus when you...   \n",
       "3  0439893577      5.0  Bought one a few years ago for my daughter and...   \n",
       "4  0439893577      4.0  I have a stainless steel refrigerator therefor...   \n",
       "\n",
       "   wordCount  \n",
       "0         20  \n",
       "1         22  \n",
       "2         76  \n",
       "3         31  \n",
       "4         47  "
      ]
     },
     "execution_count": 51,
     "metadata": {},
     "output_type": "execute_result"
    }
   ],
   "source": [
    "show(counts_df)"
   ]
  },
  {
   "cell_type": "code",
   "execution_count": 52,
   "metadata": {},
   "outputs": [],
   "source": [
    "def count_all_the_things(text):\n",
    "    return [len(text), len(text.split())]"
   ]
  },
  {
   "cell_type": "code",
   "execution_count": 53,
   "metadata": {},
   "outputs": [],
   "source": [
    "from pyspark.sql.types import ArrayType, IntegerType\n",
    "count_udf = F.udf(count_all_the_things, returnType=ArrayType(IntegerType()))"
   ]
  },
  {
   "cell_type": "code",
   "execution_count": 54,
   "metadata": {},
   "outputs": [],
   "source": [
    "counts_df = df.withColumn('counts', count_udf(df['reviewText']))"
   ]
  },
  {
   "cell_type": "code",
   "execution_count": 55,
   "metadata": {},
   "outputs": [
    {
     "data": {
      "text/html": [
       "<div>\n",
       "<style scoped>\n",
       "    .dataframe tbody tr th:only-of-type {\n",
       "        vertical-align: middle;\n",
       "    }\n",
       "\n",
       "    .dataframe tbody tr th {\n",
       "        vertical-align: top;\n",
       "    }\n",
       "\n",
       "    .dataframe thead th {\n",
       "        text-align: right;\n",
       "    }\n",
       "</style>\n",
       "<table border=\"1\" class=\"dataframe\">\n",
       "  <thead>\n",
       "    <tr style=\"text-align: right;\">\n",
       "      <th></th>\n",
       "      <th>asin</th>\n",
       "      <th>helpful</th>\n",
       "      <th>overall</th>\n",
       "      <th>reviewText</th>\n",
       "      <th>reviewTime</th>\n",
       "      <th>reviewerID</th>\n",
       "      <th>reviewerName</th>\n",
       "      <th>summary</th>\n",
       "      <th>unixReviewTime</th>\n",
       "      <th>counts</th>\n",
       "    </tr>\n",
       "  </thead>\n",
       "  <tbody>\n",
       "    <tr>\n",
       "      <td>0</td>\n",
       "      <td>0439893577</td>\n",
       "      <td>[0, 0]</td>\n",
       "      <td>5.0</td>\n",
       "      <td>I like the item pricing. My granddaughter want...</td>\n",
       "      <td>01 29, 2014</td>\n",
       "      <td>A1VXOAVRGKGEAK</td>\n",
       "      <td>Angie</td>\n",
       "      <td>Magnetic board</td>\n",
       "      <td>1390953600</td>\n",
       "      <td>[100, 20]</td>\n",
       "    </tr>\n",
       "  </tbody>\n",
       "</table>\n",
       "</div>"
      ],
      "text/plain": [
       "         asin helpful  overall  \\\n",
       "0  0439893577  [0, 0]      5.0   \n",
       "\n",
       "                                          reviewText   reviewTime  \\\n",
       "0  I like the item pricing. My granddaughter want...  01 29, 2014   \n",
       "\n",
       "       reviewerID reviewerName         summary  unixReviewTime     counts  \n",
       "0  A1VXOAVRGKGEAK        Angie  Magnetic board      1390953600  [100, 20]  "
      ]
     },
     "execution_count": 55,
     "metadata": {},
     "output_type": "execute_result"
    }
   ],
   "source": [
    "show(counts_df, 1)"
   ]
  },
  {
   "cell_type": "code",
   "execution_count": 56,
   "metadata": {},
   "outputs": [],
   "source": [
    "slim_counts_df = (\n",
    "    df.drop('reviewTime', 'helpful')\n",
    "#       .drop('helpful')\n",
    "      .withColumn('counts', count_udf(df['reviewText']))\n",
    "      .drop('reviewText')\n",
    ")"
   ]
  },
  {
   "cell_type": "code",
   "execution_count": 57,
   "metadata": {},
   "outputs": [
    {
     "data": {
      "text/html": [
       "<div>\n",
       "<style scoped>\n",
       "    .dataframe tbody tr th:only-of-type {\n",
       "        vertical-align: middle;\n",
       "    }\n",
       "\n",
       "    .dataframe tbody tr th {\n",
       "        vertical-align: top;\n",
       "    }\n",
       "\n",
       "    .dataframe thead th {\n",
       "        text-align: right;\n",
       "    }\n",
       "</style>\n",
       "<table border=\"1\" class=\"dataframe\">\n",
       "  <thead>\n",
       "    <tr style=\"text-align: right;\">\n",
       "      <th></th>\n",
       "      <th>asin</th>\n",
       "      <th>overall</th>\n",
       "      <th>reviewerID</th>\n",
       "      <th>reviewerName</th>\n",
       "      <th>summary</th>\n",
       "      <th>unixReviewTime</th>\n",
       "      <th>counts</th>\n",
       "    </tr>\n",
       "  </thead>\n",
       "  <tbody>\n",
       "    <tr>\n",
       "      <td>0</td>\n",
       "      <td>0439893577</td>\n",
       "      <td>5.0</td>\n",
       "      <td>A1VXOAVRGKGEAK</td>\n",
       "      <td>Angie</td>\n",
       "      <td>Magnetic board</td>\n",
       "      <td>1390953600</td>\n",
       "      <td>[100, 20]</td>\n",
       "    </tr>\n",
       "  </tbody>\n",
       "</table>\n",
       "</div>"
      ],
      "text/plain": [
       "         asin  overall      reviewerID reviewerName         summary  \\\n",
       "0  0439893577      5.0  A1VXOAVRGKGEAK        Angie  Magnetic board   \n",
       "\n",
       "   unixReviewTime     counts  \n",
       "0      1390953600  [100, 20]  "
      ]
     },
     "execution_count": 57,
     "metadata": {},
     "output_type": "execute_result"
    }
   ],
   "source": [
    "show(slim_counts_df, n=1)"
   ]
  },
  {
   "cell_type": "code",
   "execution_count": 58,
   "metadata": {
    "collapsed": true,
    "jupyter": {
     "outputs_hidden": true
    }
   },
   "outputs": [
    {
     "data": {
      "text/plain": [
       "[Row(reviewerID='A3R9X003XW0LNR', avg(overall)=4.36),\n",
       " Row(reviewerID='A2TZT5AMK1XQTC', avg(overall)=4.2),\n",
       " Row(reviewerID='A2UGBQSNS1I37M', avg(overall)=4.857142857142857),\n",
       " Row(reviewerID='AUAX1QWUCYKSX', avg(overall)=4.090909090909091),\n",
       " Row(reviewerID='A1XU4ZI0NUZ68M', avg(overall)=3.8333333333333335),\n",
       " Row(reviewerID='A2OIGPPBTR65MR', avg(overall)=4.421052631578948),\n",
       " Row(reviewerID='A2B2OT465SEI15', avg(overall)=4.833333333333333),\n",
       " Row(reviewerID='A3RSDKOJ28VU6B', avg(overall)=5.0),\n",
       " Row(reviewerID='A8SHD09Z1RI3', avg(overall)=4.0),\n",
       " Row(reviewerID='A1919BYRFSG18U', avg(overall)=4.666666666666667),\n",
       " Row(reviewerID='A10AKE9TAADHVV', avg(overall)=4.142857142857143),\n",
       " Row(reviewerID='A239YR4IQ0QAFY', avg(overall)=5.0),\n",
       " Row(reviewerID='A1VLE2SH9J8WYS', avg(overall)=4.785714285714286),\n",
       " Row(reviewerID='A24WSD48Z3WUZS', avg(overall)=4.5),\n",
       " Row(reviewerID='A17A1KTVI3DG6U', avg(overall)=3.5714285714285716),\n",
       " Row(reviewerID='A2GF3I3279PEXO', avg(overall)=4.714285714285714),\n",
       " Row(reviewerID='A2IKUVB2PS4QLT', avg(overall)=5.0),\n",
       " Row(reviewerID='APVMWJNB77FNP', avg(overall)=4.2),\n",
       " Row(reviewerID='A1VHPPBMKS6U1N', avg(overall)=4.4),\n",
       " Row(reviewerID='A2P2QMTLWLUQUZ', avg(overall)=3.75),\n",
       " Row(reviewerID='A6GMEO3VRY51S', avg(overall)=4.166666666666667),\n",
       " Row(reviewerID='A1IJ4Z3204XZ6N', avg(overall)=4.428571428571429),\n",
       " Row(reviewerID='A1UQNPIQ52PYSN', avg(overall)=2.8),\n",
       " Row(reviewerID='A3SKNXQJ357GEW', avg(overall)=4.166666666666667),\n",
       " Row(reviewerID='AJCK6OKNWGIYG', avg(overall)=5.0),\n",
       " Row(reviewerID='A12WD8M1UUA93G', avg(overall)=4.666666666666667),\n",
       " Row(reviewerID='AW9FZO9WF88CV', avg(overall)=4.285714285714286),\n",
       " Row(reviewerID='A2A56MRVND9JVW', avg(overall)=4.833333333333333),\n",
       " Row(reviewerID='A2TWO5CLBUA5E6', avg(overall)=4.166666666666667),\n",
       " Row(reviewerID='A14DLCVBFBK7XV', avg(overall)=4.4),\n",
       " Row(reviewerID='A1CEO7S4330SW2', avg(overall)=5.0),\n",
       " Row(reviewerID='AF89IW5TVF8I8', avg(overall)=4.444444444444445),\n",
       " Row(reviewerID='A2G0Y6FVP84EX7', avg(overall)=4.0),\n",
       " Row(reviewerID='A1BOJE4E44MYW6', avg(overall)=4.166666666666667),\n",
       " Row(reviewerID='A3EJOBNMT20Q6W', avg(overall)=5.0),\n",
       " Row(reviewerID='A1VSD1TTO9LTA6', avg(overall)=5.0),\n",
       " Row(reviewerID='A17FQHN25ETAQH', avg(overall)=4.5),\n",
       " Row(reviewerID='A3CPL126VL12H8', avg(overall)=4.666666666666667),\n",
       " Row(reviewerID='A29XAP7W7YG0ZA', avg(overall)=4.833333333333333),\n",
       " Row(reviewerID='A2URD460P4XY10', avg(overall)=5.0),\n",
       " Row(reviewerID='A3MSH2YW203752', avg(overall)=5.0),\n",
       " Row(reviewerID='ARIFCL50JD5SK', avg(overall)=4.545454545454546),\n",
       " Row(reviewerID='A28973L3OU3OVV', avg(overall)=3.4),\n",
       " Row(reviewerID='A3YAIGMXF3049', avg(overall)=4.0625),\n",
       " Row(reviewerID='A1CQD4YELHLXBB', avg(overall)=4.333333333333333),\n",
       " Row(reviewerID='A3UGLZNHE8MSNT', avg(overall)=4.4),\n",
       " Row(reviewerID='A1OPV6BD37T1VL', avg(overall)=4.090909090909091),\n",
       " Row(reviewerID='A2S0HZ2WHXRKD', avg(overall)=4.0),\n",
       " Row(reviewerID='A1TA9VB0SA3FEO', avg(overall)=4.0),\n",
       " Row(reviewerID='ARD9QTJXZXAC8', avg(overall)=3.1904761904761907),\n",
       " Row(reviewerID='A1NXRF3I791HRI', avg(overall)=3.875),\n",
       " Row(reviewerID='A2GCEBDTV8R0M2', avg(overall)=3.625),\n",
       " Row(reviewerID='A9XCW04U6X4NP', avg(overall)=4.4),\n",
       " Row(reviewerID='A13U56PF19VGSW', avg(overall)=5.0),\n",
       " Row(reviewerID='A2JPEYP1OTIQE4', avg(overall)=5.0),\n",
       " Row(reviewerID='A1PBLFIRAZII1F', avg(overall)=5.0),\n",
       " Row(reviewerID='A2TKEMX4M9Y6E6', avg(overall)=5.0),\n",
       " Row(reviewerID='A3QBCX2QMKJ7AH', avg(overall)=4.515151515151516),\n",
       " Row(reviewerID='A3Q1QHUK0JDLIE', avg(overall)=5.0),\n",
       " Row(reviewerID='A30Q5JUJULYNV8', avg(overall)=4.2),\n",
       " Row(reviewerID='A3N041QAKY7BVW', avg(overall)=3.0),\n",
       " Row(reviewerID='A1S9TVJIMBPB5Q', avg(overall)=4.833333333333333),\n",
       " Row(reviewerID='A3OPXNND84JPV6', avg(overall)=4.6),\n",
       " Row(reviewerID='A3LUUDFQJWLRTB', avg(overall)=4.0),\n",
       " Row(reviewerID='ARRAPMXS0U741', avg(overall)=5.0),\n",
       " Row(reviewerID='ATRQPL5OG4NIP', avg(overall)=4.2),\n",
       " Row(reviewerID='A375NF45A1MDWI', avg(overall)=4.083333333333333),\n",
       " Row(reviewerID='A3FCGR4EK16XUF', avg(overall)=5.0),\n",
       " Row(reviewerID='ATHUV6LFX2AXM', avg(overall)=5.0),\n",
       " Row(reviewerID='A1C8GULXKPZF8V', avg(overall)=4.714285714285714),\n",
       " Row(reviewerID='A1UYMXFON06KQ6', avg(overall)=4.08),\n",
       " Row(reviewerID='A1GZ3B0GMFL63O', avg(overall)=4.8),\n",
       " Row(reviewerID='A8YYMBXZN2SEZ', avg(overall)=5.0),\n",
       " Row(reviewerID='A29QRHQN6WBBNV', avg(overall)=4.2),\n",
       " Row(reviewerID='A13QOK3SKIT9QL', avg(overall)=3.466666666666667),\n",
       " Row(reviewerID='A1Q5W3RQZS06HO', avg(overall)=4.8),\n",
       " Row(reviewerID='APBDBT90MAALM', avg(overall)=5.0),\n",
       " Row(reviewerID='A2P6QCZWW3H1X6', avg(overall)=4.0),\n",
       " Row(reviewerID='A315QZJ3XH5V8E', avg(overall)=3.0),\n",
       " Row(reviewerID='AEA0AGV78RDF8', avg(overall)=3.857142857142857),\n",
       " Row(reviewerID='A1EBHZY28NME1O', avg(overall)=4.6),\n",
       " Row(reviewerID='A3A2TPB74A329Q', avg(overall)=4.2),\n",
       " Row(reviewerID='A347X1XDEX60UH', avg(overall)=4.8),\n",
       " Row(reviewerID='A3I6YLOOFW6FZY', avg(overall)=4.2),\n",
       " Row(reviewerID='A38E0NUTVGQM45', avg(overall)=3.8),\n",
       " Row(reviewerID='A3CTVTT3OYEO6G', avg(overall)=4.6),\n",
       " Row(reviewerID='A34VKF1E5AG4CC', avg(overall)=3.8),\n",
       " Row(reviewerID='A10KHX41ONY4U1', avg(overall)=4.666666666666667),\n",
       " Row(reviewerID='ADF0URBXWJQOJ', avg(overall)=3.2),\n",
       " Row(reviewerID='A3VOT9DKME6ER', avg(overall)=4.333333333333333),\n",
       " Row(reviewerID='A2BMZRO0H7TFCS', avg(overall)=3.8461538461538463),\n",
       " Row(reviewerID='AM2PAP6COUV5J', avg(overall)=3.857142857142857),\n",
       " Row(reviewerID='AYOJ4CX2CZP7Y', avg(overall)=4.875),\n",
       " Row(reviewerID='A2K5VHI9ORKE2M', avg(overall)=3.8),\n",
       " Row(reviewerID='A1WKJJR57I17ST', avg(overall)=5.0),\n",
       " Row(reviewerID='AP6TK94IR577S', avg(overall)=3.8333333333333335),\n",
       " Row(reviewerID='A1QCX1GYN86FYX', avg(overall)=4.2),\n",
       " Row(reviewerID='AIXDV2Z2NEYP6', avg(overall)=3.5),\n",
       " Row(reviewerID='A6HOWM08PLFZ5', avg(overall)=3.3333333333333335),\n",
       " Row(reviewerID='ALGLYG73KOEN2', avg(overall)=4.8),\n",
       " Row(reviewerID='A35Q0RBM3YNQNF', avg(overall)=4.444444444444445),\n",
       " Row(reviewerID='A2SA1FQNYT0X00', avg(overall)=4.666666666666667),\n",
       " Row(reviewerID='A3AL7WXMX6MLGD', avg(overall)=4.0),\n",
       " Row(reviewerID='AFYQ9V4XBVCJ1', avg(overall)=3.9166666666666665),\n",
       " Row(reviewerID='A3PXFUL4WX8850', avg(overall)=4.8),\n",
       " Row(reviewerID='A3PZLW5P97IO5R', avg(overall)=4.4),\n",
       " Row(reviewerID='A2WTZYJFWNRAOI', avg(overall)=4.0),\n",
       " Row(reviewerID='A25ND1VXTT9LF', avg(overall)=5.0),\n",
       " Row(reviewerID='A1FYYE9Z89Q82J', avg(overall)=4.4),\n",
       " Row(reviewerID='AO1NNCO03D0LH', avg(overall)=4.888888888888889),\n",
       " Row(reviewerID='A2WQY1B8ZS7QRZ', avg(overall)=3.0),\n",
       " Row(reviewerID='A1FQSSLJ72JRBT', avg(overall)=5.0),\n",
       " Row(reviewerID='AMFXXAOVV4CPJ', avg(overall)=4.222222222222222),\n",
       " Row(reviewerID='A1ZNKNL4Z0MINN', avg(overall)=3.8333333333333335),\n",
       " Row(reviewerID='A2YXWW0G7S8RZP', avg(overall)=4.545454545454546),\n",
       " Row(reviewerID='AO9LDPUTA0919', avg(overall)=3.8),\n",
       " Row(reviewerID='A1VMMMFNAMF87S', avg(overall)=4.565217391304348),\n",
       " Row(reviewerID='A2N0LMGNHRWW6T', avg(overall)=4.6),\n",
       " Row(reviewerID='A2GMFLSLYSEG3S', avg(overall)=5.0),\n",
       " Row(reviewerID='AT4TEQ216VX3K', avg(overall)=4.625),\n",
       " Row(reviewerID='A034597326Z83X79S50FI', avg(overall)=4.714285714285714),\n",
       " Row(reviewerID='ACELEUBPR68AW', avg(overall)=4.2),\n",
       " Row(reviewerID='A3147QM0APQWI7', avg(overall)=4.4),\n",
       " Row(reviewerID='A3NQ92P0GJRJZ3', avg(overall)=4.8),\n",
       " Row(reviewerID='A2L78BBV9QW5JU', avg(overall)=3.6666666666666665),\n",
       " Row(reviewerID='A32IHWKSLPMRBK', avg(overall)=3.5833333333333335),\n",
       " Row(reviewerID='A1B73WBT0EUCSO', avg(overall)=4.0),\n",
       " Row(reviewerID='A1VF0102Z9VITO', avg(overall)=4.666666666666667),\n",
       " Row(reviewerID='A1QCJEFA8WVLFX', avg(overall)=4.6875),\n",
       " Row(reviewerID='A12PN254PTSGU5', avg(overall)=4.0),\n",
       " Row(reviewerID='A3VLWTCNLWFGGJ', avg(overall)=4.4),\n",
       " Row(reviewerID='A3RTEA60XVN0G1', avg(overall)=4.571428571428571),\n",
       " Row(reviewerID='A1T656A0FAN8F3', avg(overall)=3.8),\n",
       " Row(reviewerID='A2218FQTW05XME', avg(overall)=4.833333333333333),\n",
       " Row(reviewerID='A4YMO2ODRTYPY', avg(overall)=4.222222222222222),\n",
       " Row(reviewerID='A3QYD27F90N4OE', avg(overall)=4.0),\n",
       " Row(reviewerID='AXAUID80U4XJX', avg(overall)=4.833333333333333),\n",
       " Row(reviewerID='A3F8A11FLWKOJS', avg(overall)=4.25),\n",
       " Row(reviewerID='A3VHY83ZWW2PEK', avg(overall)=4.333333333333333),\n",
       " Row(reviewerID='A12L9KI1FGS0CA', avg(overall)=4.333333333333333),\n",
       " Row(reviewerID='A3L17RRL053ZXH', avg(overall)=4.0),\n",
       " Row(reviewerID='A1JXX17HZR7754', avg(overall)=4.0),\n",
       " Row(reviewerID='A3LEDIH8MAE3R', avg(overall)=4.833333333333333),\n",
       " Row(reviewerID='A25NULIP3O550P', avg(overall)=2.8),\n",
       " Row(reviewerID='A235X9VK8ND08T', avg(overall)=4.388888888888889),\n",
       " Row(reviewerID='A3AABSBJ9M45CF', avg(overall)=4.5),\n",
       " Row(reviewerID='A1TX2N102JG27W', avg(overall)=4.631578947368421),\n",
       " Row(reviewerID='A2NZHTSH9EVCNZ', avg(overall)=4.2),\n",
       " Row(reviewerID='A3GU5YTM2N686N', avg(overall)=5.0),\n",
       " Row(reviewerID='AWBQTFLTIKYOZ', avg(overall)=4.571428571428571),\n",
       " Row(reviewerID='A1JUAHVYRZRQJV', avg(overall)=4.625),\n",
       " Row(reviewerID='A1RP4KAAIA3PYZ', avg(overall)=5.0),\n",
       " Row(reviewerID='A1J9660BEZ2G09', avg(overall)=4.4),\n",
       " Row(reviewerID='A3NTBR2QTRQYX2', avg(overall)=4.6),\n",
       " Row(reviewerID='AQAH04Y4KD3LT', avg(overall)=5.0),\n",
       " Row(reviewerID='AQSILHK8964MX', avg(overall)=4.0),\n",
       " Row(reviewerID='A2RIPAQSNWI6B2', avg(overall)=5.0),\n",
       " Row(reviewerID='A31DXFCHTXJCUF', avg(overall)=4.8),\n",
       " Row(reviewerID='AFWZGQESHAJLL', avg(overall)=4.833333333333333),\n",
       " Row(reviewerID='A9193QN2B1HJD', avg(overall)=4.875),\n",
       " Row(reviewerID='A25IRWH03ZHRRE', avg(overall)=3.5),\n",
       " Row(reviewerID='A1SNAWQ3DYNK5I', avg(overall)=4.888888888888889),\n",
       " Row(reviewerID='AI0KS6TKN9599', avg(overall)=4.2),\n",
       " Row(reviewerID='A1GAYQGLUPVZQS', avg(overall)=4.8),\n",
       " Row(reviewerID='AI1O7QYVB151F', avg(overall)=4.833333333333333),\n",
       " Row(reviewerID='A1SI5XRPGE7J5W', avg(overall)=4.2),\n",
       " Row(reviewerID='A20PEGFP2NVI47', avg(overall)=4.714285714285714),\n",
       " Row(reviewerID='AP1JWAY7J1TSD', avg(overall)=5.0),\n",
       " Row(reviewerID='A2PAFNZ5D4J4WN', avg(overall)=4.5),\n",
       " Row(reviewerID='A1XJW0XA8VDU4', avg(overall)=4.714285714285714),\n",
       " Row(reviewerID='ANVDFG2B2BQGF', avg(overall)=5.0),\n",
       " Row(reviewerID='A12ZSBECOKCABG', avg(overall)=5.0),\n",
       " Row(reviewerID='A3RRM0BGZ821MX', avg(overall)=3.4),\n",
       " Row(reviewerID='A3B7KGAUPB3TKS', avg(overall)=4.818181818181818),\n",
       " Row(reviewerID='A3O6LOIW8WAPQK', avg(overall)=5.0),\n",
       " Row(reviewerID='A1OIYUWNXTWV5L', avg(overall)=4.8),\n",
       " Row(reviewerID='A2ORXBQIAYYSLD', avg(overall)=4.285714285714286),\n",
       " Row(reviewerID='A224KM22RQ5CD4', avg(overall)=3.6),\n",
       " Row(reviewerID='A1Q2CBTWZNCCV1', avg(overall)=4.6),\n",
       " Row(reviewerID='A293HA28PN3VO4', avg(overall)=4.333333333333333),\n",
       " Row(reviewerID='A11FCMZC184KXZ', avg(overall)=4.166666666666667),\n",
       " Row(reviewerID='A1O7GS4P9Y12GO', avg(overall)=5.0),\n",
       " Row(reviewerID='A1GP7SFKQ719HI', avg(overall)=4.833333333333333),\n",
       " Row(reviewerID='ACZMM7OTESMH0', avg(overall)=4.75),\n",
       " Row(reviewerID='A2ABO7X2PO2EG3', avg(overall)=4.666666666666667),\n",
       " Row(reviewerID='A2R9PCIR3X3CAC', avg(overall)=4.0),\n",
       " Row(reviewerID='A2F04VREV7SM7O', avg(overall)=3.8),\n",
       " Row(reviewerID='A3CPUE2O17N0DJ', avg(overall)=4.6),\n",
       " Row(reviewerID='A1MAB7VNVO2FJL', avg(overall)=4.833333333333333),\n",
       " Row(reviewerID='A3VS2RYRGDW4HS', avg(overall)=3.6666666666666665),\n",
       " Row(reviewerID='A1N2EMZ9F130A9', avg(overall)=4.8),\n",
       " Row(reviewerID='A3FWGSJ3T3N5QW', avg(overall)=4.0),\n",
       " Row(reviewerID='A2MNNS4HEXONIN', avg(overall)=4.4),\n",
       " Row(reviewerID='A226VHYFG6N5OE', avg(overall)=3.8),\n",
       " Row(reviewerID='A3FZ6QJXIR1EH1', avg(overall)=4.6),\n",
       " Row(reviewerID='A26I8RW155YET', avg(overall)=4.285714285714286),\n",
       " Row(reviewerID='AMG28Z36AMAQ6', avg(overall)=4.875),\n",
       " Row(reviewerID='A3AQP2VX0TJQ73', avg(overall)=3.75),\n",
       " Row(reviewerID='A1YAHKESH1JVQZ', avg(overall)=5.0),\n",
       " Row(reviewerID='AW5MEPS7F3A4W', avg(overall)=4.6),\n",
       " Row(reviewerID='A1LF72WDHE73IY', avg(overall)=5.0),\n",
       " Row(reviewerID='A1R4BL5MYUDNDJ', avg(overall)=3.8),\n",
       " Row(reviewerID='A21JBH914SZYPY', avg(overall)=5.0),\n",
       " Row(reviewerID='A1X9TCCX7YMAZ3', avg(overall)=5.0),\n",
       " Row(reviewerID='A2EYTOR6PTGHUC', avg(overall)=4.222222222222222),\n",
       " Row(reviewerID='A18OBUSMXVE8R0', avg(overall)=4.958333333333333),\n",
       " Row(reviewerID='A2WT9FBIC8G2UR', avg(overall)=4.7),\n",
       " Row(reviewerID='A3KZOUH7TUTT00', avg(overall)=3.888888888888889),\n",
       " Row(reviewerID='A10MG6WLSMALA1', avg(overall)=4.1),\n",
       " Row(reviewerID='A16A81C3ELWURB', avg(overall)=4.0),\n",
       " Row(reviewerID='A3LBXN9F2N8KH9', avg(overall)=5.0),\n",
       " Row(reviewerID='A1WQ34TQB0ASTN', avg(overall)=3.8),\n",
       " Row(reviewerID='A3S5K7Q4Q85NJU', avg(overall)=4.285714285714286),\n",
       " Row(reviewerID='A2VDSIII404UTO', avg(overall)=4.454545454545454),\n",
       " Row(reviewerID='A2V3HYAS16V30T', avg(overall)=4.8),\n",
       " Row(reviewerID='ATUY6U5HHYF4Q', avg(overall)=3.2857142857142856),\n",
       " Row(reviewerID='AL2VDE4LO4ESR', avg(overall)=4.4),\n",
       " Row(reviewerID='A2YFZ0UYCG2EO3', avg(overall)=3.857142857142857),\n",
       " Row(reviewerID='A2RTCTTNROH03O', avg(overall)=4.4375),\n",
       " Row(reviewerID='A1A7VIA7BN83OR', avg(overall)=4.166666666666667),\n",
       " Row(reviewerID='A3622F2VUDRIYR', avg(overall)=4.285714285714286),\n",
       " Row(reviewerID='A2YEJVOJ5AZ4QM', avg(overall)=3.8461538461538463),\n",
       " Row(reviewerID='A2ME89MSWVG9NF', avg(overall)=3.8125),\n",
       " Row(reviewerID='A1KTIP6X9PJMSK', avg(overall)=4.571428571428571),\n",
       " Row(reviewerID='A38DXHZZSXYX49', avg(overall)=3.2),\n",
       " Row(reviewerID='A26NSWOAKB86LM', avg(overall)=4.555555555555555),\n",
       " Row(reviewerID='AHZH2L16XCZJ7', avg(overall)=4.777777777777778),\n",
       " Row(reviewerID='A1QS763CW91E16', avg(overall)=5.0),\n",
       " Row(reviewerID='A3Q112ZJ6WEM0X', avg(overall)=4.333333333333333),\n",
       " Row(reviewerID='AOFVU4GZMWNRV', avg(overall)=4.470588235294118),\n",
       " Row(reviewerID='A3QYQMLVXWC499', avg(overall)=4.6),\n",
       " Row(reviewerID='A2NDG1DVMSSAEW', avg(overall)=4.833333333333333),\n",
       " Row(reviewerID='A3W4G0SSIE6NKG', avg(overall)=3.923076923076923),\n",
       " Row(reviewerID='A1V0GLV2R0YNU7', avg(overall)=3.8333333333333335),\n",
       " Row(reviewerID='A1LNKVKV4MODPX', avg(overall)=3.857142857142857),\n",
       " Row(reviewerID='AG50K3NZQ6QJX', avg(overall)=5.0),\n",
       " Row(reviewerID='A188MJCXB1EZUU', avg(overall)=4.333333333333333),\n",
       " Row(reviewerID='AFTLY73R6MLQA', avg(overall)=4.0),\n",
       " Row(reviewerID='A1OJAQ7WCDNSOI', avg(overall)=2.4),\n",
       " Row(reviewerID='A1JTTI1KH3DOCY', avg(overall)=3.6296296296296298),\n",
       " Row(reviewerID='A1X47YS1HN0JNG', avg(overall)=4.333333333333333),\n",
       " Row(reviewerID='A14YYVYYE34IM1', avg(overall)=3.2),\n",
       " Row(reviewerID='AIF410VRJ9RYG', avg(overall)=4.4),\n",
       " Row(reviewerID='AUXQ7F61TTA53', avg(overall)=3.8666666666666667),\n",
       " Row(reviewerID='A1GSHFWF4ZL05I', avg(overall)=5.0),\n",
       " Row(reviewerID='A11LLM2CFX3VR6', avg(overall)=3.6),\n",
       " Row(reviewerID='ARIDN94LOCQFD', avg(overall)=4.17948717948718),\n",
       " Row(reviewerID='AQ2QY69Y9DSDZ', avg(overall)=5.0),\n",
       " Row(reviewerID='A2YJHT2DC3ADGC', avg(overall)=4.666666666666667),\n",
       " Row(reviewerID='A3HDTWBLQS5VWQ', avg(overall)=4.2),\n",
       " Row(reviewerID='A30T1TG6J42XE0', avg(overall)=4.533333333333333),\n",
       " Row(reviewerID='A26ER7QE4RC38C', avg(overall)=4.0),\n",
       " Row(reviewerID='A1QIFYGJPGARO3', avg(overall)=4.166666666666667),\n",
       " Row(reviewerID='A325LPLXVP6F15', avg(overall)=4.571428571428571),\n",
       " Row(reviewerID='A2Z2RKOFT8BZW6', avg(overall)=5.0),\n",
       " Row(reviewerID='A2WI2U6OAXM8CF', avg(overall)=4.777777777777778),\n",
       " Row(reviewerID='A1GXCTXOZ1LEH4', avg(overall)=4.923076923076923),\n",
       " Row(reviewerID='AHJ6J7A0OFX8P', avg(overall)=4.0),\n",
       " Row(reviewerID='A2W34ZSDBOPC6', avg(overall)=4.5),\n",
       " Row(reviewerID='A1IC0HZ35M0406', avg(overall)=3.5),\n",
       " Row(reviewerID='A13XIY7XJYBEKT', avg(overall)=3.6),\n",
       " Row(reviewerID='A2K14Y5YJWI8Q4', avg(overall)=5.0),\n",
       " Row(reviewerID='ALG4MGOY96EW1', avg(overall)=4.6),\n",
       " Row(reviewerID='A23VKF4GTLY8U0', avg(overall)=4.833333333333333),\n",
       " Row(reviewerID='AQ7I2NZ9WLIKL', avg(overall)=5.0),\n",
       " Row(reviewerID='A38R5EQGVOY8XL', avg(overall)=4.4),\n",
       " Row(reviewerID='AJVON51FZUYE8', avg(overall)=4.166666666666667),\n",
       " Row(reviewerID='A8D0C9SK4ZXTQ', avg(overall)=4.2),\n",
       " Row(reviewerID='A325C1BAYA0309', avg(overall)=5.0),\n",
       " Row(reviewerID='A1KOU9EM98MVG9', avg(overall)=4.5),\n",
       " Row(reviewerID='A2W0AJD1QWP1H4', avg(overall)=4.7272727272727275),\n",
       " Row(reviewerID='A2EO9QEEX1CKTC', avg(overall)=4.6),\n",
       " Row(reviewerID='A37NPWGGUZVFMK', avg(overall)=4.166666666666667),\n",
       " Row(reviewerID='A1PDK6P3S9IH7U', avg(overall)=4.4),\n",
       " Row(reviewerID='AUUG74MV4KQAS', avg(overall)=4.888888888888889),\n",
       " Row(reviewerID='A15ONIPEXC9CNS', avg(overall)=4.833333333333333),\n",
       " Row(reviewerID='A3EPBWXUWBOJI7', avg(overall)=4.0),\n",
       " Row(reviewerID='ASEYZYO85DOTA', avg(overall)=3.9166666666666665),\n",
       " Row(reviewerID='A37ESMW5PAVG3M', avg(overall)=4.166666666666667),\n",
       " Row(reviewerID='A39D7ONPOORMUT', avg(overall)=4.857142857142857),\n",
       " Row(reviewerID='A2SKV4WHQL1Z4V', avg(overall)=5.0),\n",
       " Row(reviewerID='A1BT9SD02Q6DO7', avg(overall)=3.0),\n",
       " Row(reviewerID='A1H1TLRWG5OB8N', avg(overall)=4.363636363636363),\n",
       " Row(reviewerID='AVR4ED8X6NE5', avg(overall)=4.4),\n",
       " Row(reviewerID='A1MCQLJGZ2ODCK', avg(overall)=4.647058823529412),\n",
       " Row(reviewerID='A244CRJ2QSVLZ4', avg(overall)=4.230769230769231),\n",
       " Row(reviewerID='A3874X0MVV5PV2', avg(overall)=5.0),\n",
       " Row(reviewerID='A1Y32FBX45NCNL', avg(overall)=4.2727272727272725),\n",
       " Row(reviewerID='A2XFJUAVUEHP7X', avg(overall)=4.625),\n",
       " Row(reviewerID='A1FRADBDXQPJJC', avg(overall)=3.857142857142857),\n",
       " Row(reviewerID='ALVG32OL7K7WZ', avg(overall)=5.0),\n",
       " Row(reviewerID='A11PUCHQS3MM97', avg(overall)=4.4),\n",
       " Row(reviewerID='A6FO0MB6JE7EL', avg(overall)=4.6),\n",
       " Row(reviewerID='A2P79C1VAFNWDN', avg(overall)=4.8),\n",
       " Row(reviewerID='A1TPTNWN7YPS3G', avg(overall)=4.4),\n",
       " Row(reviewerID='A1NYXNBP05FD8Y', avg(overall)=4.833333333333333),\n",
       " Row(reviewerID='A2O5A0L7NL9J3Q', avg(overall)=5.0),\n",
       " Row(reviewerID='A29VZ6937SCRX6', avg(overall)=4.0),\n",
       " Row(reviewerID='A2EA49SKDEPPQV', avg(overall)=3.4),\n",
       " Row(reviewerID='AW9AIAJ9MV8DD', avg(overall)=5.0),\n",
       " Row(reviewerID='A3EYFNCOKPHBUX', avg(overall)=2.6),\n",
       " Row(reviewerID='A35OBVCKDNYUR3', avg(overall)=5.0),\n",
       " Row(reviewerID='A1GQAKL9CGQLP1', avg(overall)=5.0),\n",
       " Row(reviewerID='A1A6FDVPCF5CB4', avg(overall)=5.0),\n",
       " Row(reviewerID='A2EKPIN655LOW8', avg(overall)=4.0),\n",
       " Row(reviewerID='A1UMPRPWUL3MUF', avg(overall)=4.666666666666667),\n",
       " Row(reviewerID='A1O4PG6BCRY294', avg(overall)=4.7),\n",
       " Row(reviewerID='A1K7GYL8FWRGOG', avg(overall)=4.857142857142857),\n",
       " Row(reviewerID='AYIRKYTTQYZ6U', avg(overall)=4.5),\n",
       " Row(reviewerID='A1AK8KQE5TF6PL', avg(overall)=4.428571428571429),\n",
       " Row(reviewerID='A1I5O6LSW96XTB', avg(overall)=5.0),\n",
       " Row(reviewerID='A35TR1Z43R2VCN', avg(overall)=4.4),\n",
       " Row(reviewerID='A1SWY7DY3RRC2Q', avg(overall)=4.0),\n",
       " Row(reviewerID='A2I1B7GHNP1JTA', avg(overall)=4.666666666666667),\n",
       " Row(reviewerID='AJB7W7OD11G8Z', avg(overall)=4.4),\n",
       " Row(reviewerID='A2942CY3T6EWXU', avg(overall)=4.076923076923077),\n",
       " Row(reviewerID='AP92371L7JR4E', avg(overall)=3.8),\n",
       " Row(reviewerID='A19XM9DIPHOBBL', avg(overall)=4.142857142857143),\n",
       " Row(reviewerID='A2NV7XGMSK8S0V', avg(overall)=4.6),\n",
       " Row(reviewerID='A1ABA883LM763R', avg(overall)=4.4),\n",
       " Row(reviewerID='A1HDE6VKY9U9A', avg(overall)=4.428571428571429),\n",
       " Row(reviewerID='A12B7ZMXFI6IXY', avg(overall)=4.777777777777778),\n",
       " Row(reviewerID='A3K3QCIIIWQA5Y', avg(overall)=4.166666666666667),\n",
       " Row(reviewerID='A28DMVM1R0A3LM', avg(overall)=3.75),\n",
       " Row(reviewerID='A7QHPC2QIHPGI', avg(overall)=4.666666666666667),\n",
       " Row(reviewerID='A1U3CORCAMY9I7', avg(overall)=4.4),\n",
       " Row(reviewerID='A3ERQ8VYGYMK8W', avg(overall)=4.5),\n",
       " Row(reviewerID='A15TZFBKVISAAJ', avg(overall)=4.833333333333333),\n",
       " Row(reviewerID='A1HMWFKHRQ190J', avg(overall)=4.142857142857143),\n",
       " Row(reviewerID='A2WK7ZBM33IF5L', avg(overall)=3.5),\n",
       " Row(reviewerID='A2JG550V9O0FAA', avg(overall)=4.8),\n",
       " Row(reviewerID='A10DT30215CH5Y', avg(overall)=4.0),\n",
       " Row(reviewerID='A2WJMG3TDN8AVO', avg(overall)=3.5),\n",
       " Row(reviewerID='A1S7ZSZREB1OXG', avg(overall)=2.5714285714285716),\n",
       " Row(reviewerID='A1FMRC8KE0K8PQ', avg(overall)=4.75),\n",
       " Row(reviewerID='A1NIBIZM8X3U4S', avg(overall)=4.666666666666667),\n",
       " Row(reviewerID='AB8HCOX3YULQS', avg(overall)=3.875),\n",
       " Row(reviewerID='AWH5PLJU61BMG', avg(overall)=4.857142857142857),\n",
       " Row(reviewerID='AZJG3Y385XNZE', avg(overall)=4.5),\n",
       " Row(reviewerID='A3KGW9MI9EXYQ3', avg(overall)=5.0),\n",
       " Row(reviewerID='A2RF9BEZSNFICQ', avg(overall)=4.625),\n",
       " Row(reviewerID='A2NKNE9SV2KIN2', avg(overall)=3.6666666666666665),\n",
       " Row(reviewerID='A3R6RMXSWHTZHG', avg(overall)=2.6),\n",
       " Row(reviewerID='A3L9SREX2RUB7X', avg(overall)=5.0),\n",
       " Row(reviewerID='A37TKEDFFYR5RX', avg(overall)=4.285714285714286),\n",
       " Row(reviewerID='A21Z3BDD6W9YTN', avg(overall)=3.5555555555555554),\n",
       " Row(reviewerID='A1WGRWF9TSCJRO', avg(overall)=4.625),\n",
       " Row(reviewerID='ARVOF7YUQTCB7', avg(overall)=4.2),\n",
       " Row(reviewerID='A34205D5W4JUH3', avg(overall)=5.0),\n",
       " Row(reviewerID='AH8NP79OTUENP', avg(overall)=4.666666666666667),\n",
       " Row(reviewerID='AOCND62YBNAJL', avg(overall)=4.0),\n",
       " Row(reviewerID='A2MUZDMZPJX217', avg(overall)=4.555555555555555),\n",
       " Row(reviewerID='A2YM3KILJ1G0YJ', avg(overall)=4.0),\n",
       " Row(reviewerID='A31KZBX45HJ39I', avg(overall)=4.2),\n",
       " Row(reviewerID='A3JI0J5NXVI91G', avg(overall)=4.666666666666667),\n",
       " Row(reviewerID='A3Q1N069UIAFCU', avg(overall)=4.571428571428571),\n",
       " Row(reviewerID='ACH1YOSGB89BC', avg(overall)=4.461538461538462),\n",
       " Row(reviewerID='A1G74Z1XW8A232', avg(overall)=4.2),\n",
       " Row(reviewerID='A18FUHNBP90IB4', avg(overall)=4.388888888888889),\n",
       " Row(reviewerID='A6K0OQAASKVWS', avg(overall)=4.4),\n",
       " Row(reviewerID='A34D2RZZ0AR94J', avg(overall)=5.0),\n",
       " Row(reviewerID='A2RI25U0F857W2', avg(overall)=5.0),\n",
       " Row(reviewerID='A2JVK2MNYE0KDF', avg(overall)=4.8),\n",
       " Row(reviewerID='A2GSJUETASGMO0', avg(overall)=4.25),\n",
       " Row(reviewerID='A3JT5SVYJC1LOL', avg(overall)=4.8),\n",
       " Row(reviewerID='A3P8ZDHC7XSKSE', avg(overall)=4.0),\n",
       " Row(reviewerID='AYVCC1AOW44CF', avg(overall)=5.0),\n",
       " Row(reviewerID='AT9432LQSE1XU', avg(overall)=3.6),\n",
       " Row(reviewerID='A32PELI5X1U5I0', avg(overall)=3.8),\n",
       " Row(reviewerID='A1OC65ZR6VAWC8', avg(overall)=4.2),\n",
       " Row(reviewerID='A2FITEUON78PY7', avg(overall)=4.5),\n",
       " Row(reviewerID='A28YTJGIZY277M', avg(overall)=4.428571428571429),\n",
       " Row(reviewerID='A3W1MME1EGV4ID', avg(overall)=3.2),\n",
       " Row(reviewerID='A8KCND0ONAPGF', avg(overall)=3.8333333333333335),\n",
       " Row(reviewerID='A1BTS3E7A1T88J', avg(overall)=3.4),\n",
       " Row(reviewerID='A7CRWATHSYO2L', avg(overall)=5.0),\n",
       " Row(reviewerID='A1PI477JJP2HOK', avg(overall)=4.6),\n",
       " Row(reviewerID='A2ADYE01WEJ1V', avg(overall)=5.0),\n",
       " Row(reviewerID='A2GSZ4ASQZQDNM', avg(overall)=5.0),\n",
       " Row(reviewerID='A1Z3EJN4WCSAV4', avg(overall)=4.6),\n",
       " Row(reviewerID='A27JSZ27B3FORW', avg(overall)=4.2),\n",
       " Row(reviewerID='A2F7XU97CYFHDY', avg(overall)=4.4),\n",
       " Row(reviewerID='A3CVOTOEF67QB7', avg(overall)=4.0),\n",
       " Row(reviewerID='AI77Y75ADYV39', avg(overall)=5.0),\n",
       " Row(reviewerID='A1OL7RJ5YEFYD', avg(overall)=4.428571428571429),\n",
       " Row(reviewerID='A1UT9GJI871281', avg(overall)=5.0),\n",
       " Row(reviewerID='A286RTX7LFZSJQ', avg(overall)=4.888888888888889),\n",
       " Row(reviewerID='A3V4XZQXW7PZ20', avg(overall)=5.0),\n",
       " Row(reviewerID='A14JCJGC2QL0MR', avg(overall)=5.0),\n",
       " Row(reviewerID='A2DMTT8RFDWS3N', avg(overall)=4.428571428571429),\n",
       " Row(reviewerID='A22CW0ZHY3NJH8', avg(overall)=4.171428571428572),\n",
       " Row(reviewerID='A20YF75XYVEMBG', avg(overall)=4.625),\n",
       " Row(reviewerID='AEJERMNDEYMF6', avg(overall)=5.0),\n",
       " Row(reviewerID='A10WBU7X288RZY', avg(overall)=4.166666666666667),\n",
       " Row(reviewerID='ANGGST8QOYORC', avg(overall)=5.0),\n",
       " Row(reviewerID='A1G6Z363WYCX7V', avg(overall)=4.75),\n",
       " Row(reviewerID='ATS2855497V0I', avg(overall)=3.8333333333333335),\n",
       " Row(reviewerID='A1YTDEXE0IV1J2', avg(overall)=3.142857142857143),\n",
       " Row(reviewerID='A3G6ONPNHKPP0C', avg(overall)=4.5),\n",
       " Row(reviewerID='A1FUIG2K1XRN05', avg(overall)=4.75),\n",
       " Row(reviewerID='A3QO4VXCK8HLU9', avg(overall)=2.5555555555555554),\n",
       " Row(reviewerID='AE62182ZKLN85', avg(overall)=4.909090909090909),\n",
       " Row(reviewerID='A3I2HXC9AK4DLL', avg(overall)=4.75),\n",
       " Row(reviewerID='A24E43AQ52W73N', avg(overall)=3.3333333333333335),\n",
       " Row(reviewerID='A177ZEKMW4URLK', avg(overall)=4.161290322580645),\n",
       " Row(reviewerID='A3L6XHA5FVMN16', avg(overall)=4.928571428571429),\n",
       " Row(reviewerID='A3M2U2803IED3X', avg(overall)=4.0),\n",
       " Row(reviewerID='A24PNVLQKEOZ2N', avg(overall)=4.363636363636363),\n",
       " Row(reviewerID='A1BOJ3936IE1E0', avg(overall)=4.5),\n",
       " Row(reviewerID='A76W6TNTKOL3L', avg(overall)=4.05),\n",
       " Row(reviewerID='A1NAQ15MEDYW2K', avg(overall)=4.333333333333333),\n",
       " Row(reviewerID='A37SIZ7YQKYY8A', avg(overall)=4.875),\n",
       " Row(reviewerID='A1F86CLPN2CQ8I', avg(overall)=3.5555555555555554),\n",
       " Row(reviewerID='ATCFLWS85POA0', avg(overall)=4.8),\n",
       " Row(reviewerID='A1K90D8M82NIEG', avg(overall)=4.166666666666667),\n",
       " Row(reviewerID='A3DYBTW1TEZL3M', avg(overall)=4.538461538461538),\n",
       " Row(reviewerID='A1VLQ56SGOAUUK', avg(overall)=5.0),\n",
       " Row(reviewerID='A3U4GW06XNSI2Q', avg(overall)=3.782608695652174),\n",
       " Row(reviewerID='A278A667ICAYTS', avg(overall)=3.0),\n",
       " Row(reviewerID='A3AY01PUHID1PR', avg(overall)=4.7272727272727275),\n",
       " Row(reviewerID='A304GDTPL2UX7O', avg(overall)=4.666666666666667),\n",
       " Row(reviewerID='A26OI2JXIVZ5WZ', avg(overall)=4.4),\n",
       " Row(reviewerID='A12EB7IZDG04I0', avg(overall)=4.4),\n",
       " Row(reviewerID='A1LOENXGC0WRI2', avg(overall)=4.285714285714286),\n",
       " Row(reviewerID='A2FF8W2TQ7320J', avg(overall)=5.0),\n",
       " Row(reviewerID='A1FZEF8I333XS7', avg(overall)=4.333333333333333),\n",
       " Row(reviewerID='A1ENPEA9KLM6AJ', avg(overall)=3.8),\n",
       " Row(reviewerID='A3EF8R7LHJZC5S', avg(overall)=4.5),\n",
       " Row(reviewerID='A2TI4Y4OJEFDJF', avg(overall)=5.0),\n",
       " Row(reviewerID='A3KVF4JBEAE8O1', avg(overall)=4.166666666666667),\n",
       " Row(reviewerID='A30SCTNTYV4I2P', avg(overall)=4.428571428571429),\n",
       " Row(reviewerID='A3MNH79KGUSAP1', avg(overall)=4.166666666666667),\n",
       " Row(reviewerID='A2026C4TMLHWPC', avg(overall)=4.857142857142857),\n",
       " Row(reviewerID='A1JL3PE3MW9D1U', avg(overall)=4.3),\n",
       " Row(reviewerID='ACK72XZ7UMERX', avg(overall)=4.777777777777778),\n",
       " Row(reviewerID='A3U2X6Q8TCI0R4', avg(overall)=5.0),\n",
       " Row(reviewerID='A2L69EL1BGUH2P', avg(overall)=4.8125),\n",
       " Row(reviewerID='A3EB79KMOFHLZO', avg(overall)=4.2),\n",
       " Row(reviewerID='A1X9K6YSDKVU0F', avg(overall)=3.2857142857142856),\n",
       " Row(reviewerID='A269WG8C9O2B0C', avg(overall)=4.875),\n",
       " Row(reviewerID='A8ZTRH5096CHD', avg(overall)=3.5),\n",
       " Row(reviewerID='A2OL9H2S39LQFO', avg(overall)=5.0),\n",
       " Row(reviewerID='A1EBGQURP973TL', avg(overall)=4.714285714285714),\n",
       " Row(reviewerID='A2KQ2JDRVS2I8V', avg(overall)=4.285714285714286),\n",
       " Row(reviewerID='ADNNMYOE7SIL0', avg(overall)=4.8),\n",
       " Row(reviewerID='A33H1ING3L6FRR', avg(overall)=5.0),\n",
       " Row(reviewerID='A2GCK01TMKA9Y9', avg(overall)=4.8),\n",
       " Row(reviewerID='A3SCBL3KQVESHT', avg(overall)=3.4),\n",
       " Row(reviewerID='AQCWCW33JGIJO', avg(overall)=4.0),\n",
       " Row(reviewerID='A2H7E7KDI2CU1U', avg(overall)=4.6),\n",
       " Row(reviewerID='A3Q09XODDLORO2', avg(overall)=4.2),\n",
       " Row(reviewerID='AH8T9N7GGCXX9', avg(overall)=5.0),\n",
       " Row(reviewerID='A1HPMT54ZH0CNI', avg(overall)=4.0),\n",
       " Row(reviewerID='A3TRCJVBFIBL8Q', avg(overall)=4.857142857142857),\n",
       " Row(reviewerID='AY4TNCPU7VF2V', avg(overall)=3.3333333333333335),\n",
       " Row(reviewerID='A1QG13XG3EO2CX', avg(overall)=4.5625),\n",
       " Row(reviewerID='AG954PTX9EALX', avg(overall)=4.8),\n",
       " Row(reviewerID='A1H3GIGRMYP36O', avg(overall)=4.642857142857143),\n",
       " Row(reviewerID='A2K7HWVAADQDF9', avg(overall)=4.25),\n",
       " Row(reviewerID='A3R88DXQOV6TKE', avg(overall)=4.714285714285714),\n",
       " Row(reviewerID='A1LTDEUQUFK1WC', avg(overall)=4.142857142857143),\n",
       " Row(reviewerID='A1SNUCX9Z7WRF3', avg(overall)=5.0),\n",
       " Row(reviewerID='A27AX5S9H37BIV', avg(overall)=5.0),\n",
       " Row(reviewerID='A39M4JVGKMV1LT', avg(overall)=4.8),\n",
       " Row(reviewerID='A3LJHDE2GC93F8', avg(overall)=4.6),\n",
       " Row(reviewerID='A2MO2DSOO8YN75', avg(overall)=5.0),\n",
       " Row(reviewerID='AMN376J6RZWP0', avg(overall)=4.0),\n",
       " Row(reviewerID='A26XIJUJK1KRL0', avg(overall)=4.8),\n",
       " Row(reviewerID='A2WLGLA2LI5HQF', avg(overall)=4.6),\n",
       " Row(reviewerID='A1RQCRGIOVPLW0', avg(overall)=4.857142857142857),\n",
       " Row(reviewerID='A1WB47WJCS3NP4', avg(overall)=4.0),\n",
       " Row(reviewerID='A1JWJPYSVWV9C1', avg(overall)=4.4),\n",
       " Row(reviewerID='A378SNMKK9HSZU', avg(overall)=5.0),\n",
       " Row(reviewerID='A22OTFTYPQ4E2A', avg(overall)=4.6),\n",
       " Row(reviewerID='A3NN6Q0D6TK11U', avg(overall)=5.0),\n",
       " Row(reviewerID='A134CJ3TBWW3CE', avg(overall)=3.3333333333333335),\n",
       " Row(reviewerID='A2VRAT69JDAD3W', avg(overall)=4.153846153846154),\n",
       " Row(reviewerID='A31G7R5KSHQ814', avg(overall)=4.714285714285714),\n",
       " Row(reviewerID='A3VKBXQ6S41YCS', avg(overall)=5.0),\n",
       " Row(reviewerID='A2A57RXJ3MMT9J', avg(overall)=3.8),\n",
       " Row(reviewerID='A3KNBKMRSEF8RR', avg(overall)=4.4),\n",
       " Row(reviewerID='A185QFJRTB5W93', avg(overall)=4.142857142857143),\n",
       " Row(reviewerID='AN8OYAR1VRFXE', avg(overall)=4.0),\n",
       " Row(reviewerID='A21WM2LA6O94XD', avg(overall)=4.0),\n",
       " Row(reviewerID='A1AAWWGOC8ZREP', avg(overall)=5.0),\n",
       " Row(reviewerID='A2GYEPZKMD3J2Z', avg(overall)=5.0),\n",
       " Row(reviewerID='A1T64JWXEI4BD6', avg(overall)=4.2),\n",
       " Row(reviewerID='A15JPYV0L19RF', avg(overall)=4.869565217391305),\n",
       " Row(reviewerID='A3GIE87I0EEYPI', avg(overall)=3.7142857142857144),\n",
       " Row(reviewerID='A2SQ3PPVMGUHZ8', avg(overall)=5.0),\n",
       " Row(reviewerID='A2VJNPVZI9LLWE', avg(overall)=4.8),\n",
       " Row(reviewerID='A1547GEN3CH26U', avg(overall)=4.7),\n",
       " Row(reviewerID='A1W81MOFWBBXA2', avg(overall)=5.0),\n",
       " Row(reviewerID='A1FZQKM3GCF0C9', avg(overall)=4.2),\n",
       " Row(reviewerID='A3OZCQAVS7NGUN', avg(overall)=4.866666666666666),\n",
       " Row(reviewerID='A3PV2E6RXRS8EO', avg(overall)=4.111111111111111),\n",
       " Row(reviewerID='A146H6A41B26QT', avg(overall)=5.0),\n",
       " Row(reviewerID='A3PWPNZVMNX3PA', avg(overall)=3.8),\n",
       " Row(reviewerID='AE8Q83EUYOQ6L', avg(overall)=3.4),\n",
       " Row(reviewerID='A2FP7NVTALD7FT', avg(overall)=4.2727272727272725),\n",
       " Row(reviewerID='A18HJS0QLIM4U', avg(overall)=5.0),\n",
       " Row(reviewerID='AUKPDR8EJIIGE', avg(overall)=3.8),\n",
       " Row(reviewerID='A10Y058K7B96C6', avg(overall)=3.8),\n",
       " Row(reviewerID='AGIOT5X725BZ2', avg(overall)=4.4),\n",
       " Row(reviewerID='A1EXDO435S1N1E', avg(overall)=4.8),\n",
       " Row(reviewerID='A1UIKN7YTD4UF3', avg(overall)=5.0),\n",
       " Row(reviewerID='A3PIC2BGZSQQW5', avg(overall)=4.833333333333333),\n",
       " Row(reviewerID='A35J4H6YQHKS5S', avg(overall)=3.8333333333333335),\n",
       " Row(reviewerID='A10YNQ7SPY4X63', avg(overall)=4.8),\n",
       " Row(reviewerID='AJ4N76WROFV7N', avg(overall)=3.875),\n",
       " Row(reviewerID='AS7IWK412AHFO', avg(overall)=4.142857142857143),\n",
       " Row(reviewerID='A131JJUYSKVM4J', avg(overall)=3.7),\n",
       " Row(reviewerID='A2O7Z4RCG4X2M8', avg(overall)=4.8125),\n",
       " Row(reviewerID='A1ZGXZW37JEZWH', avg(overall)=4.384615384615385),\n",
       " Row(reviewerID='AHQ3KEA6VM3IJ', avg(overall)=3.111111111111111),\n",
       " Row(reviewerID='A25U4ZSWP74LYL', avg(overall)=4.142857142857143),\n",
       " Row(reviewerID='A3QXIV51GXNEG5', avg(overall)=4.6),\n",
       " Row(reviewerID='A2TQO3RX378S1H', avg(overall)=4.75),\n",
       " Row(reviewerID='A2LVCQH2HWU8FT', avg(overall)=3.4),\n",
       " Row(reviewerID='A3PMVTY03ME6M3', avg(overall)=4.2),\n",
       " Row(reviewerID='A2RCEQRJZ357FU', avg(overall)=5.0),\n",
       " Row(reviewerID='AGWQZVZL4CAYH', avg(overall)=4.636363636363637),\n",
       " Row(reviewerID='A1WWIPMAM34WC1', avg(overall)=4.4),\n",
       " Row(reviewerID='A816FOJXIOT3K', avg(overall)=4.8),\n",
       " Row(reviewerID='A2NB2E5DXE319Z', avg(overall)=4.714285714285714),\n",
       " Row(reviewerID='A1PBMMMRN2YVM7', avg(overall)=5.0),\n",
       " Row(reviewerID='A3G5BIFX6VS1OP', avg(overall)=4.888888888888889),\n",
       " Row(reviewerID='A1P5PZMQ25UYIE', avg(overall)=4.2),\n",
       " Row(reviewerID='AWK41RGQVGOU8', avg(overall)=4.666666666666667),\n",
       " Row(reviewerID='A2R4GAEDSV8VCZ', avg(overall)=5.0),\n",
       " Row(reviewerID='A24NT6ZIGSJFWG', avg(overall)=3.142857142857143),\n",
       " Row(reviewerID='A14JU74UUGJ8GZ', avg(overall)=3.8),\n",
       " Row(reviewerID='A3QCKD6SQI4SJG', avg(overall)=4.428571428571429),\n",
       " Row(reviewerID='A2161FSD1VAOYG', avg(overall)=5.0),\n",
       " Row(reviewerID='A3OK97NLHS8QY7', avg(overall)=4.2),\n",
       " Row(reviewerID='A3E5J2HMQBL949', avg(overall)=3.0),\n",
       " Row(reviewerID='A3COH1RFQRA1FX', avg(overall)=4.8),\n",
       " Row(reviewerID='A2B5PJ5A5UHG4F', avg(overall)=4.4),\n",
       " Row(reviewerID='A2YWT3X8GFJXR2', avg(overall)=4.25),\n",
       " Row(reviewerID='A25G8AIUFSGGDS', avg(overall)=4.714285714285714),\n",
       " Row(reviewerID='A22YUFT9K4SGYD', avg(overall)=4.777777777777778),\n",
       " Row(reviewerID='A1GN7ZHUL5R03A', avg(overall)=4.5),\n",
       " Row(reviewerID='A2LID6S11FA48Y', avg(overall)=4.8),\n",
       " Row(reviewerID='A307UOI4ELWAB3', avg(overall)=4.8),\n",
       " Row(reviewerID='AMDBZ5P0GAT69', avg(overall)=4.111111111111111),\n",
       " Row(reviewerID='AMO6NGVTG9279', avg(overall)=5.0),\n",
       " Row(reviewerID='A2T3ON1EA9VERR', avg(overall)=4.444444444444445),\n",
       " Row(reviewerID='A1GVO4VUAH85DW', avg(overall)=4.75),\n",
       " Row(reviewerID='A195PPXIYVLP99', avg(overall)=5.0),\n",
       " Row(reviewerID='A2H6ZW2OOANU1Y', avg(overall)=4.6),\n",
       " Row(reviewerID='AOHWZYAI2OESP', avg(overall)=3.8333333333333335),\n",
       " Row(reviewerID='AI9K7IX2BUMJP', avg(overall)=4.5),\n",
       " Row(reviewerID='A2P30F9CLZOOJD', avg(overall)=5.0),\n",
       " Row(reviewerID='A373ZHGOYXORO4', avg(overall)=4.0),\n",
       " Row(reviewerID='A2ARSSXTLX28WQ', avg(overall)=4.333333333333333),\n",
       " Row(reviewerID='A8TMJ4E1X8GUW', avg(overall)=5.0),\n",
       " Row(reviewerID='ATWFCEO96LKNY', avg(overall)=5.0),\n",
       " Row(reviewerID='A13VQOHTI1AU8Y', avg(overall)=5.0),\n",
       " Row(reviewerID='A3DA4LXQP4QUK5', avg(overall)=4.8),\n",
       " Row(reviewerID='A3K791HYUM4ZWB', avg(overall)=5.0),\n",
       " Row(reviewerID='A13YPJ8Y6XFZR2', avg(overall)=4.0),\n",
       " Row(reviewerID='A2BG26XI1T4CQ2', avg(overall)=4.0),\n",
       " Row(reviewerID='A1H2J760IOA2HQ', avg(overall)=5.0),\n",
       " Row(reviewerID='A3HPIHVQFF9HU8', avg(overall)=5.0),\n",
       " Row(reviewerID='A1HYV4HL28X8GQ', avg(overall)=4.571428571428571),\n",
       " Row(reviewerID='A22FVY0FZJ7Q8C', avg(overall)=1.4),\n",
       " Row(reviewerID='A2QKO1VY7B9RLD', avg(overall)=5.0),\n",
       " Row(reviewerID='A1YRDTW57QV3TI', avg(overall)=3.0),\n",
       " Row(reviewerID='A3A4HEP9YV8NAM', avg(overall)=4.666666666666667),\n",
       " Row(reviewerID='A105S56ODHGJEK', avg(overall)=3.588235294117647),\n",
       " Row(reviewerID='A31FL8I2C1WV32', avg(overall)=4.75),\n",
       " Row(reviewerID='A284GFG9CIUW1P', avg(overall)=4.0),\n",
       " Row(reviewerID='AMVGQ51QHKB8O', avg(overall)=4.5),\n",
       " Row(reviewerID='A9PAC5VFTDQHF', avg(overall)=3.5),\n",
       " Row(reviewerID='A2YS9A1EZFRU28', avg(overall)=4.833333333333333),\n",
       " Row(reviewerID='A3MG88JGBACVUK', avg(overall)=4.4),\n",
       " Row(reviewerID='A7H4I79GNOJ2U', avg(overall)=4.647058823529412),\n",
       " Row(reviewerID='A2ZKGN4ZHX72NS', avg(overall)=4.6),\n",
       " Row(reviewerID='AXIUZHSH45Q4S', avg(overall)=3.0),\n",
       " Row(reviewerID='A19I5EON4RHOUM', avg(overall)=4.5),\n",
       " Row(reviewerID='AJEDVT3OSUZCF', avg(overall)=4.375),\n",
       " Row(reviewerID='A1ZVFCPHCWFV71', avg(overall)=3.5625),\n",
       " Row(reviewerID='A1KM83BPOVAC4Q', avg(overall)=2.8),\n",
       " Row(reviewerID='A1Q57GEGDR4PYE', avg(overall)=4.666666666666667),\n",
       " Row(reviewerID='A2KMMT6KLYAFFF', avg(overall)=5.0),\n",
       " Row(reviewerID='AMOYMAQWX70P2', avg(overall)=4.583333333333333),\n",
       " Row(reviewerID='A1L2JFLTH89ROQ', avg(overall)=4.8),\n",
       " Row(reviewerID='ATY8RHJ9WHIW7', avg(overall)=5.0),\n",
       " Row(reviewerID='A1ID0AUZ7IPWFD', avg(overall)=4.142857142857143),\n",
       " Row(reviewerID='A1PTBXZG04GT29', avg(overall)=4.426666666666667),\n",
       " Row(reviewerID='A1U7LS93I03MFW', avg(overall)=3.9411764705882355),\n",
       " Row(reviewerID='A1YYI151S7II10', avg(overall)=5.0),\n",
       " Row(reviewerID='A37PPLULHT6CFQ', avg(overall)=5.0),\n",
       " Row(reviewerID='A2E9Q3T876TQ6C', avg(overall)=4.428571428571429),\n",
       " Row(reviewerID='A1KLPS6P7UR631', avg(overall)=4.388888888888889),\n",
       " Row(reviewerID='A19B5KDA7UV254', avg(overall)=3.625),\n",
       " Row(reviewerID='AHNRUHTAB7W8T', avg(overall)=3.875),\n",
       " Row(reviewerID='AMTKZ0I5BOYZV', avg(overall)=4.4),\n",
       " Row(reviewerID='A1LPV8DN13DI8K', avg(overall)=4.2),\n",
       " Row(reviewerID='A1ZM4RXUG1JJVJ', avg(overall)=3.8),\n",
       " Row(reviewerID='A2LHZRF4LL2B5K', avg(overall)=4.2),\n",
       " Row(reviewerID='A32D3SIQGJX2SV', avg(overall)=4.117647058823529),\n",
       " Row(reviewerID='A1HGWDVO2XQR6H', avg(overall)=3.6),\n",
       " Row(reviewerID='AFNG8O2DXRCUV', avg(overall)=4.2),\n",
       " Row(reviewerID='A3T70YYLB0E713', avg(overall)=2.4285714285714284),\n",
       " Row(reviewerID='A5BTCX4IR4RLJ', avg(overall)=5.0),\n",
       " Row(reviewerID='A1J6Z9T0L4F4XR', avg(overall)=5.0),\n",
       " Row(reviewerID='A2C23YX3D9G68C', avg(overall)=4.8),\n",
       " Row(reviewerID='A32P4GUDL2CHQN', avg(overall)=5.0),\n",
       " Row(reviewerID='A9WT87JFYZ3A7', avg(overall)=4.0),\n",
       " Row(reviewerID='AL5QTZM5FIV4N', avg(overall)=4.6),\n",
       " Row(reviewerID='A2JSNRJV7DL5JZ', avg(overall)=4.672727272727273),\n",
       " Row(reviewerID='A1NW9T7VOB14ED', avg(overall)=4.1),\n",
       " Row(reviewerID='A2K8AP8PANEWEY', avg(overall)=5.0),\n",
       " Row(reviewerID='A1F6EPRVZ7C4Y3', avg(overall)=4.2),\n",
       " Row(reviewerID='A1NA2I8KSZCDUQ', avg(overall)=4.6),\n",
       " Row(reviewerID='A1GAEORWPBZ7DG', avg(overall)=4.333333333333333),\n",
       " Row(reviewerID='A32OJMOZ9Y1A8J', avg(overall)=4.571428571428571),\n",
       " Row(reviewerID='A3UWRQZV34509I', avg(overall)=4.777777777777778),\n",
       " Row(reviewerID='A2O9DG473F3C5', avg(overall)=4.8),\n",
       " Row(reviewerID='A2LXP91DF4WU0N', avg(overall)=5.0),\n",
       " Row(reviewerID='AX2JIK3L25TZH', avg(overall)=4.181818181818182),\n",
       " Row(reviewerID='A9IFSLWBJ2ATQ', avg(overall)=4.875),\n",
       " Row(reviewerID='AXGGVMPYDHZIJ', avg(overall)=5.0),\n",
       " Row(reviewerID='A3ULFNK26FDZTI', avg(overall)=4.2),\n",
       " Row(reviewerID='A1L85O96S49ID9', avg(overall)=3.25),\n",
       " Row(reviewerID='A3TI5428I2SDRE', avg(overall)=5.0),\n",
       " Row(reviewerID='A35TUDKSX53ET8', avg(overall)=5.0),\n",
       " Row(reviewerID='ARGY5ZC6FD40P', avg(overall)=3.6666666666666665),\n",
       " Row(reviewerID='ASEMV95I6RNXD', avg(overall)=4.0),\n",
       " Row(reviewerID='A2GY0TMHXYD5LU', avg(overall)=5.0),\n",
       " Row(reviewerID='A3P2D0B50DXXDS', avg(overall)=4.6),\n",
       " Row(reviewerID='A27Q395KS99KOB', avg(overall)=4.222222222222222),\n",
       " Row(reviewerID='A35HRL8YD8R7MV', avg(overall)=4.4),\n",
       " Row(reviewerID='A389ZIW141LE50', avg(overall)=4.4),\n",
       " Row(reviewerID='A3VI8SM7GH1W50', avg(overall)=4.4),\n",
       " Row(reviewerID='A15FLIW5C7UBRV', avg(overall)=4.363636363636363),\n",
       " Row(reviewerID='A2F35SS0RKWSO2', avg(overall)=4.0),\n",
       " Row(reviewerID='A1YTPPAOQFM5VZ', avg(overall)=3.6),\n",
       " Row(reviewerID='A2NDF1PEF8ZV3', avg(overall)=4.75),\n",
       " Row(reviewerID='AHJ7KGB90Z0NX', avg(overall)=2.4),\n",
       " Row(reviewerID='A3VROBBFXDL9YY', avg(overall)=4.714285714285714),\n",
       " Row(reviewerID='A1XBA0PXTDMRTI', avg(overall)=5.0),\n",
       " Row(reviewerID='A13TVF86XC4O42', avg(overall)=4.666666666666667),\n",
       " Row(reviewerID='AW3RWY15N3L58', avg(overall)=4.428571428571429),\n",
       " Row(reviewerID='A2C46HQIZLYJUC', avg(overall)=3.8),\n",
       " Row(reviewerID='A1ZYLWX4XYONKK', avg(overall)=4.4),\n",
       " Row(reviewerID='A31HR32Y8GPWX7', avg(overall)=4.8),\n",
       " Row(reviewerID='A3O8TYUVCU7ZDB', avg(overall)=4.6),\n",
       " Row(reviewerID='A3FF8OTS5XYTPR', avg(overall)=3.6),\n",
       " Row(reviewerID='A3ITP8ZBMZ2TL0', avg(overall)=4.666666666666667),\n",
       " Row(reviewerID='A2PLWER3W9YC4S', avg(overall)=3.25),\n",
       " Row(reviewerID='ANCIPD8WMFVFW', avg(overall)=4.6),\n",
       " Row(reviewerID='A3E2LKAS63ATZN', avg(overall)=5.0),\n",
       " Row(reviewerID='A38JVP8Y9TQ8GS', avg(overall)=3.2),\n",
       " Row(reviewerID='A21BVL7PKG9BX8', avg(overall)=4.0),\n",
       " Row(reviewerID='ALMP44RB15CHJ', avg(overall)=3.1),\n",
       " Row(reviewerID='A164O47CXA68XZ', avg(overall)=5.0),\n",
       " Row(reviewerID='A3JGCTQT4H9TSS', avg(overall)=4.6),\n",
       " Row(reviewerID='A1YNSXMIBMQ7UO', avg(overall)=3.8),\n",
       " Row(reviewerID='A22KRLNQE081Y6', avg(overall)=4.4),\n",
       " Row(reviewerID='A2T61DILLRUPOE', avg(overall)=4.8),\n",
       " Row(reviewerID='A1VTUS3U85L9VV', avg(overall)=4.8),\n",
       " Row(reviewerID='A3EXWV8FNSSFL6', avg(overall)=4.476190476190476),\n",
       " Row(reviewerID='A28UBI340176A2', avg(overall)=5.0),\n",
       " Row(reviewerID='A30VCWUTDXT917', avg(overall)=4.571428571428571),\n",
       " Row(reviewerID='A21TV38981DF2B', avg(overall)=5.0),\n",
       " Row(reviewerID='A22FF2UDE62RW2', avg(overall)=4.5),\n",
       " Row(reviewerID='A2SRJ3UO5MKSGX', avg(overall)=4.142857142857143),\n",
       " Row(reviewerID='A3SH5VIFP3HOZP', avg(overall)=4.4),\n",
       " Row(reviewerID='A5IBE1K8ESVB2', avg(overall)=4.166666666666667),\n",
       " Row(reviewerID='AP0KGISWXXZ8G', avg(overall)=4.285714285714286),\n",
       " Row(reviewerID='A1Q813RS7W6FLW', avg(overall)=4.6),\n",
       " Row(reviewerID='A2QFOS6ID72QGX', avg(overall)=4.2),\n",
       " Row(reviewerID='AML5JLIMUPWGW', avg(overall)=4.2),\n",
       " Row(reviewerID='AEIW1FJIHIGZP', avg(overall)=5.0),\n",
       " Row(reviewerID='A7QPT76IH03UH', avg(overall)=5.0),\n",
       " Row(reviewerID='A2CMETO9TY0M7J', avg(overall)=4.4),\n",
       " Row(reviewerID='A3DIDEUX0W5VT6', avg(overall)=2.6),\n",
       " Row(reviewerID='AYAL91PGH2UXX', avg(overall)=4.125),\n",
       " Row(reviewerID='A115W6MM9ILLK0', avg(overall)=5.0),\n",
       " Row(reviewerID='A2LUZ5VU5HDZLN', avg(overall)=4.666666666666667),\n",
       " Row(reviewerID='A3Q99KOV47QSCU', avg(overall)=5.0),\n",
       " Row(reviewerID='A2DKN6KK67HP7P', avg(overall)=5.0),\n",
       " Row(reviewerID='A2JK8WHJP2DO46', avg(overall)=4.333333333333333),\n",
       " Row(reviewerID='A2XK009VM3OBG7', avg(overall)=3.6),\n",
       " Row(reviewerID='A5XKEQXVQJTVJ', avg(overall)=4.4),\n",
       " Row(reviewerID='A1OS8ICUFW5F9H', avg(overall)=4.857142857142857),\n",
       " Row(reviewerID='A100UD67AHFODS', avg(overall)=5.0),\n",
       " Row(reviewerID='A1OE9URA2SR2SX', avg(overall)=4.3),\n",
       " Row(reviewerID='A3DEMJM66762AA', avg(overall)=4.666666666666667),\n",
       " Row(reviewerID='A3S4U2HQRFURC8', avg(overall)=3.8333333333333335),\n",
       " Row(reviewerID='A23H9VPJ777NHN', avg(overall)=5.0),\n",
       " Row(reviewerID='A2ABD98ZH6F230', avg(overall)=4.2),\n",
       " Row(reviewerID='A333PLXUB7CDB0', avg(overall)=3.7142857142857144),\n",
       " Row(reviewerID='A1B80MBF94GNBC', avg(overall)=3.2),\n",
       " Row(reviewerID='ADUIFGJE9I7GA', avg(overall)=4.333333333333333),\n",
       " Row(reviewerID='AU0S2Z7BA22V5', avg(overall)=3.8),\n",
       " Row(reviewerID='A1EMDSI9Y3MUQ1', avg(overall)=4.571428571428571),\n",
       " Row(reviewerID='A2LQZOEL0E72H8', avg(overall)=5.0),\n",
       " Row(reviewerID='A34LNM3QX070HL', avg(overall)=4.285714285714286),\n",
       " Row(reviewerID='A10Z2H34E2KJFE', avg(overall)=4.2727272727272725),\n",
       " Row(reviewerID='A2MAG7BIDRQTF8', avg(overall)=4.65),\n",
       " Row(reviewerID='AU11R9QF65EH3', avg(overall)=4.8),\n",
       " Row(reviewerID='AJ91AOCHHUOPO', avg(overall)=4.857142857142857),\n",
       " Row(reviewerID='A2WW57XX2UVLM6', avg(overall)=4.099337748344371),\n",
       " Row(reviewerID='A34AZ7SNO4ZQ6C', avg(overall)=4.6),\n",
       " Row(reviewerID='APRZYUE21E7HP', avg(overall)=4.8),\n",
       " Row(reviewerID='A19E959HQACRZQ', avg(overall)=4.5),\n",
       " Row(reviewerID='A3C4VSLX0MHEQC', avg(overall)=5.0),\n",
       " Row(reviewerID='A3D27FSC1OZPN', avg(overall)=4.285714285714286),\n",
       " Row(reviewerID='A1J1EMCU26L778', avg(overall)=4.333333333333333),\n",
       " Row(reviewerID='A2WCA2GRF78DWN', avg(overall)=4.857142857142857),\n",
       " Row(reviewerID='A2RRN14ZRKY1U5', avg(overall)=5.0),\n",
       " Row(reviewerID='A3KS3XYBP6YCFO', avg(overall)=4.6),\n",
       " Row(reviewerID='A1REILK6IRX5AZ', avg(overall)=4.6),\n",
       " Row(reviewerID='A1UIMH1A869JUV', avg(overall)=4.809523809523809),\n",
       " Row(reviewerID='A1Y77JWIKL0VM8', avg(overall)=4.666666666666667),\n",
       " Row(reviewerID='A2QW2WVN1Z4UA', avg(overall)=3.2857142857142856),\n",
       " Row(reviewerID='AWICKUT903RFL', avg(overall)=4.666666666666667),\n",
       " Row(reviewerID='A1YCHOANOM8ZPM', avg(overall)=3.8),\n",
       " Row(reviewerID='A1OLV069VNBMK4', avg(overall)=4.166666666666667),\n",
       " Row(reviewerID='A1ZTGDHEKNO86M', avg(overall)=4.0),\n",
       " Row(reviewerID='AULDDIOHU5I60', avg(overall)=5.0),\n",
       " Row(reviewerID='A3P3X4WTM6WGRY', avg(overall)=3.5),\n",
       " Row(reviewerID='AQR89SGX4AYJX', avg(overall)=5.0),\n",
       " Row(reviewerID='A3AOSL63CYGPJE', avg(overall)=4.428571428571429),\n",
       " Row(reviewerID='A3NDUBKYPI47N2', avg(overall)=3.6875),\n",
       " Row(reviewerID='A31PKHBFFJDVF0', avg(overall)=4.666666666666667),\n",
       " Row(reviewerID='A1PN0NIH7NLC20', avg(overall)=4.8),\n",
       " Row(reviewerID='A1A9UE11NPRY6M', avg(overall)=4.111111111111111),\n",
       " Row(reviewerID='A2QL3P9YL7T0QC', avg(overall)=4.285714285714286),\n",
       " Row(reviewerID='A1VP3NQPR7WFN3', avg(overall)=5.0),\n",
       " Row(reviewerID='A1NA5HLVEYW8RL', avg(overall)=4.714285714285714),\n",
       " Row(reviewerID='AYOND4ODQI2VQ', avg(overall)=3.4),\n",
       " Row(reviewerID='A3JXBZ8F65100O', avg(overall)=4.4),\n",
       " Row(reviewerID='A16KOGAQ8NXPXZ', avg(overall)=4.4),\n",
       " Row(reviewerID='A1TJYTYOILKAMD', avg(overall)=4.2),\n",
       " Row(reviewerID='AFO678EAGH4Y9', avg(overall)=4.0588235294117645),\n",
       " Row(reviewerID='A6UVUMRPL86B1', avg(overall)=4.0),\n",
       " Row(reviewerID='AJ7OHHOB7598I', avg(overall)=4.8),\n",
       " Row(reviewerID='A3NLQWUUML5S7F', avg(overall)=5.0),\n",
       " Row(reviewerID='A2X1ZCVGXO0EUA', avg(overall)=3.8),\n",
       " Row(reviewerID='A3TDX0YCPFP8CD', avg(overall)=3.6),\n",
       " Row(reviewerID='AG1ELQC8M7CVP', avg(overall)=4.333333333333333),\n",
       " Row(reviewerID='AJTTYAEL80K38', avg(overall)=2.8),\n",
       " Row(reviewerID='A2HM8BRW0GC1ZV', avg(overall)=4.0),\n",
       " Row(reviewerID='A14S3YSE9KR9MS', avg(overall)=4.875),\n",
       " Row(reviewerID='AIOSCTU0MQIWT', avg(overall)=4.333333333333333),\n",
       " Row(reviewerID='AZY33L9MH0CKK', avg(overall)=5.0),\n",
       " Row(reviewerID='A1138UIXWPX63A', avg(overall)=4.2),\n",
       " Row(reviewerID='A3E3NEILYCO7DA', avg(overall)=5.0),\n",
       " Row(reviewerID='AWP374BL7EGZL', avg(overall)=5.0),\n",
       " Row(reviewerID='A1ZJVUQX60WABO', avg(overall)=4.444444444444445),\n",
       " Row(reviewerID='A3J9A3S87VFMLM', avg(overall)=4.769230769230769),\n",
       " Row(reviewerID='A3AXE9X0AW61VZ', avg(overall)=3.2),\n",
       " Row(reviewerID='A2P586GGNSJPOL', avg(overall)=5.0),\n",
       " Row(reviewerID='A2K1BWGPFJX9E6', avg(overall)=4.6),\n",
       " Row(reviewerID='A24F385BETBP4N', avg(overall)=4.833333333333333),\n",
       " Row(reviewerID='A1DP5M6MBBB37W', avg(overall)=3.2),\n",
       " Row(reviewerID='A3F7RM3DNUJ5RO', avg(overall)=3.0),\n",
       " Row(reviewerID='A8D6DK0HEM8EU', avg(overall)=4.833333333333333),\n",
       " Row(reviewerID='A3PP0YU97UZ203', avg(overall)=5.0),\n",
       " Row(reviewerID='A1F9K10Y89QHVC', avg(overall)=4.4),\n",
       " Row(reviewerID='A19XMHRB3G4DIR', avg(overall)=4.625),\n",
       " Row(reviewerID='A2603EW1PVK36H', avg(overall)=5.0),\n",
       " Row(reviewerID='AE9H83YV1VU2G', avg(overall)=3.857142857142857),\n",
       " Row(reviewerID='A3KPZX7AM2ZYC5', avg(overall)=3.8333333333333335),\n",
       " Row(reviewerID='A2C70UNG6G6KVT', avg(overall)=4.285714285714286),\n",
       " Row(reviewerID='A2Z44ZFSTKEATX', avg(overall)=4.6),\n",
       " Row(reviewerID='A24GMQB0ES1VAI', avg(overall)=5.0),\n",
       " Row(reviewerID='A312UBIOP091MH', avg(overall)=3.6666666666666665),\n",
       " Row(reviewerID='A2WV2USJOJXO7N', avg(overall)=4.6),\n",
       " Row(reviewerID='A35JHPMSVAITAS', avg(overall)=4.2),\n",
       " Row(reviewerID='AVZVUAW281GV4', avg(overall)=4.2),\n",
       " Row(reviewerID='AINI7U6PRU3ZB', avg(overall)=5.0),\n",
       " Row(reviewerID='AOIF9ILHW5TAG', avg(overall)=4.2),\n",
       " Row(reviewerID='A21DE4YNQQ4IZ2', avg(overall)=5.0),\n",
       " Row(reviewerID='A2O2822VQN2HFG', avg(overall)=4.4),\n",
       " Row(reviewerID='A34U85WY8ZWBPV', avg(overall)=5.0),\n",
       " Row(reviewerID='A3DROFPG78LZHU', avg(overall)=4.166666666666667),\n",
       " Row(reviewerID='A2SSYPHOI6EIJE', avg(overall)=3.142857142857143),\n",
       " Row(reviewerID='A3TF4C0NG13ZYF', avg(overall)=4.6),\n",
       " Row(reviewerID='A1RGUUSXEVSLFF', avg(overall)=5.0),\n",
       " Row(reviewerID='A3M6I2ZQ9KTPKH', avg(overall)=4.2),\n",
       " Row(reviewerID='A37YW8AYLS72LR', avg(overall)=5.0),\n",
       " Row(reviewerID='A3RR2P5IS3DGPR', avg(overall)=4.6),\n",
       " Row(reviewerID='A3SDSDKRCFVH9P', avg(overall)=4.2),\n",
       " Row(reviewerID='A3I4H0OVHG3MCB', avg(overall)=4.166666666666667),\n",
       " Row(reviewerID='A1O2QIQK2OR5TC', avg(overall)=4.166666666666667),\n",
       " Row(reviewerID='A3EBO09L87L2UD', avg(overall)=4.6),\n",
       " Row(reviewerID='A1LMRAHIKDDX6K', avg(overall)=4.5),\n",
       " Row(reviewerID='A146J614ZNX0BT', avg(overall)=3.6),\n",
       " Row(reviewerID='A30S2XWHFQZ8X0', avg(overall)=3.962962962962963),\n",
       " Row(reviewerID='AXAPYPM2S13MF', avg(overall)=4.125),\n",
       " Row(reviewerID='A1NVZNIM4F2LIW', avg(overall)=4.5),\n",
       " Row(reviewerID='A2IXAIARL0CDY7', avg(overall)=3.9285714285714284),\n",
       " Row(reviewerID='A3Q9HY0LU7MN6E', avg(overall)=4.454545454545454),\n",
       " Row(reviewerID='A1K7RG0AT4I3DN', avg(overall)=3.4),\n",
       " Row(reviewerID='A1VF5HRCDF99CF', avg(overall)=4.8),\n",
       " Row(reviewerID='A9CBIYEOIRAXZ', avg(overall)=4.533333333333333),\n",
       " Row(reviewerID='ASDG1LT7CKT8Y', avg(overall)=4.5),\n",
       " Row(reviewerID='A3GVXL028FFXMW', avg(overall)=4.666666666666667),\n",
       " Row(reviewerID='A1LF4B95IG0PEQ', avg(overall)=3.4444444444444446),\n",
       " Row(reviewerID='A25XU1RT0DJI3', avg(overall)=4.666666666666667),\n",
       " Row(reviewerID='A3POM5GPI6OW9W', avg(overall)=4.75),\n",
       " Row(reviewerID='A35YEBMA8C02G9', avg(overall)=4.4),\n",
       " Row(reviewerID='A3QUG39UDJOPNB', avg(overall)=5.0),\n",
       " Row(reviewerID='AS848NI1BHSJB', avg(overall)=5.0),\n",
       " Row(reviewerID='A2XNKMGEYHLUK7', avg(overall)=4.0),\n",
       " Row(reviewerID='AG71XMQGQ2UTJ', avg(overall)=4.5),\n",
       " Row(reviewerID='ACR9ES55PCMHO', avg(overall)=4.133333333333334),\n",
       " Row(reviewerID='A1Q1MUK0E5LI1C', avg(overall)=5.0),\n",
       " Row(reviewerID='A1EN93VM9A31F0', avg(overall)=4.333333333333333),\n",
       " Row(reviewerID='APEFTKKE05ARH', avg(overall)=3.888888888888889),\n",
       " Row(reviewerID='A267YDFDZKKQWN', avg(overall)=5.0),\n",
       " Row(reviewerID='A17R3NJ8FG9PMD', avg(overall)=4.4),\n",
       " Row(reviewerID='AOXMWBNDZDJ9L', avg(overall)=4.157894736842105),\n",
       " Row(reviewerID='A3F69LY1QJ7I5Y', avg(overall)=4.571428571428571),\n",
       " Row(reviewerID='A1DNWA98IV5PMW', avg(overall)=4.4375),\n",
       " Row(reviewerID='A358N3LX6TVGRP', avg(overall)=3.0),\n",
       " Row(reviewerID='ARHFY2I738P1H', avg(overall)=5.0),\n",
       " Row(reviewerID='AZXISKB1BMFHG', avg(overall)=4.222222222222222),\n",
       " Row(reviewerID='A1RW8298N7K6JM', avg(overall)=3.75),\n",
       " Row(reviewerID='AL9AIKY39N66E', avg(overall)=4.666666666666667),\n",
       " Row(reviewerID='AG18Z04BT9WZY', avg(overall)=4.928571428571429),\n",
       " Row(reviewerID='A1P354IBQL8838', avg(overall)=4.5),\n",
       " Row(reviewerID='A3HF5JQFIDXPF2', avg(overall)=4.375),\n",
       " Row(reviewerID='AWNWOMUT9HS2D', avg(overall)=2.857142857142857),\n",
       " Row(reviewerID='A1O6C8O4MVJFX4', avg(overall)=4.125),\n",
       " Row(reviewerID='A1B6QAAEE9VDIN', avg(overall)=4.75),\n",
       " Row(reviewerID='A1Q5GOPLE0XUN2', avg(overall)=4.8),\n",
       " Row(reviewerID='A336PDROMWEDWL', avg(overall)=4.6),\n",
       " Row(reviewerID='A3MNV91GLZ4LFC', avg(overall)=4.0),\n",
       " Row(reviewerID='A2ZBP1HELRKMHK', avg(overall)=3.875),\n",
       " Row(reviewerID='A2DA2NJZ2RIYAB', avg(overall)=5.0),\n",
       " Row(reviewerID='A2QRWTEAR9WBVB', avg(overall)=3.6),\n",
       " Row(reviewerID='A26OYXA4RGI0XH', avg(overall)=4.166666666666667),\n",
       " Row(reviewerID='A1FWTDVXH82XVR', avg(overall)=5.0),\n",
       " Row(reviewerID='A2X6QQHNTSKL1N', avg(overall)=4.333333333333333),\n",
       " Row(reviewerID='A153RS9Z63XYB7', avg(overall)=4.555555555555555),\n",
       " Row(reviewerID='A3T52FTJE0L7CZ', avg(overall)=3.5714285714285716),\n",
       " Row(reviewerID='A1OE0D4YFK8VXR', avg(overall)=4.6),\n",
       " Row(reviewerID='A3732PEAYKBERK', avg(overall)=5.0),\n",
       " Row(reviewerID='ACX47XOXQRIEA', avg(overall)=4.2),\n",
       " Row(reviewerID='A3A5A8EMLBRATX', avg(overall)=4.6),\n",
       " Row(reviewerID='AQGTTKWSMQ1V3', avg(overall)=4.0),\n",
       " Row(reviewerID='A150JNSC0KXI6R', avg(overall)=4.833333333333333),\n",
       " Row(reviewerID='A5P5J6B87XLIX', avg(overall)=4.5),\n",
       " Row(reviewerID='A2HV5D31Y2HE3C', avg(overall)=4.285714285714286),\n",
       " Row(reviewerID='AVBRP0CQKU3KD', avg(overall)=4.333333333333333),\n",
       " Row(reviewerID='A6HHN1BJB7PDO', avg(overall)=5.0),\n",
       " Row(reviewerID='A3KXOJMZWM00B3', avg(overall)=4.2),\n",
       " Row(reviewerID='A3W1R3R5SRFRRF', avg(overall)=3.4),\n",
       " Row(reviewerID='A2ZPZM9RE08JXF', avg(overall)=4.193548387096774),\n",
       " Row(reviewerID='A37I6BQMMGJA25', avg(overall)=4.6),\n",
       " Row(reviewerID='A492HXZOCVUIJ', avg(overall)=3.8333333333333335),\n",
       " Row(reviewerID='ATYX9OQUEA95S', avg(overall)=3.2),\n",
       " Row(reviewerID='A1AD9GUL4O81UO', avg(overall)=4.9),\n",
       " Row(reviewerID='A2AVYK5WFCEPTK', avg(overall)=4.4),\n",
       " Row(reviewerID='A42P7MF5WOOD3', avg(overall)=5.0),\n",
       " Row(reviewerID='A3AEKP7DKBH6VD', avg(overall)=4.2727272727272725),\n",
       " Row(reviewerID='A1L92ACJ2Z9QGX', avg(overall)=5.0),\n",
       " Row(reviewerID='A1OEWDSPX827AC', avg(overall)=5.0),\n",
       " Row(reviewerID='A1KYXIBRJS2JE9', avg(overall)=4.8),\n",
       " Row(reviewerID='A299S5HUIWSL8F', avg(overall)=4.333333333333333),\n",
       " Row(reviewerID='AKV87H8H5TYQD', avg(overall)=5.0),\n",
       " Row(reviewerID='A2BSB3STRK5PNX', avg(overall)=5.0),\n",
       " Row(reviewerID='A2Q4T9O821K01', avg(overall)=4.0),\n",
       " Row(reviewerID='A2XLFCFWVF9CM7', avg(overall)=5.0),\n",
       " Row(reviewerID='A1KU2VHK8BECRW', avg(overall)=5.0),\n",
       " Row(reviewerID='A3KJ9UTP3TSDJW', avg(overall)=4.4),\n",
       " Row(reviewerID='A36JKZVAMNILLM', avg(overall)=4.833333333333333),\n",
       " Row(reviewerID='A3M5XCJDFIV21A', avg(overall)=5.0),\n",
       " Row(reviewerID='A2X5H9BL7ODHPU', avg(overall)=4.6875),\n",
       " Row(reviewerID='A36REAMRA19990', avg(overall)=3.3333333333333335),\n",
       " Row(reviewerID='A51S45THWS14B', avg(overall)=4.2),\n",
       " Row(reviewerID='A3EXW4HNYX7HF5', avg(overall)=4.142857142857143),\n",
       " Row(reviewerID='AJFM9BF445RBN', avg(overall)=4.571428571428571),\n",
       " Row(reviewerID='A3NUUJF2S2ZWAD', avg(overall)=3.75),\n",
       " Row(reviewerID='A24PA1A08KVVKP', avg(overall)=3.8),\n",
       " Row(reviewerID='A19GMEHMU9LAJ8', avg(overall)=1.8),\n",
       " Row(reviewerID='A34P0BUUAUYPOJ', avg(overall)=4.666666666666667),\n",
       " Row(reviewerID='A22YTQWCR52OIW', avg(overall)=5.0),\n",
       " Row(reviewerID='AG35PR4N22DCO', avg(overall)=4.285714285714286),\n",
       " Row(reviewerID='A3OS6WFBP6TAQU', avg(overall)=4.608695652173913),\n",
       " Row(reviewerID='A2K0H6HYH8WB5F', avg(overall)=4.181818181818182),\n",
       " Row(reviewerID='A1WBEIH7Z37LN9', avg(overall)=3.2142857142857144),\n",
       " Row(reviewerID='A3AR1P02BIZWA7', avg(overall)=4.666666666666667),\n",
       " Row(reviewerID='A2WCDPO01CDUHK', avg(overall)=5.0),\n",
       " Row(reviewerID='A15CL28ALB7MTZ', avg(overall)=4.111111111111111),\n",
       " Row(reviewerID='A2D6LG91QQC29B', avg(overall)=4.5),\n",
       " Row(reviewerID='A2W1UCDVRUQ43Q', avg(overall)=4.875),\n",
       " Row(reviewerID='APZMW24EELJ3M', avg(overall)=4.428571428571429),\n",
       " Row(reviewerID='AB18XNK97UF4X', avg(overall)=5.0),\n",
       " Row(reviewerID='A2A85Q3LH9QVBJ', avg(overall)=4.75),\n",
       " Row(reviewerID='A3MCMM13TRWXEM', avg(overall)=5.0),\n",
       " Row(reviewerID='A2Y771VL7HT81N', avg(overall)=3.8461538461538463),\n",
       " Row(reviewerID='A13M2OZU0IWFY8', avg(overall)=4.8),\n",
       " Row(reviewerID='A1JF5OSQSOS9NF', avg(overall)=4.666666666666667),\n",
       " Row(reviewerID='A30MXWKFWQBGQG', avg(overall)=5.0),\n",
       " Row(reviewerID='A3UBR469X3HQF9', avg(overall)=4.428571428571429),\n",
       " Row(reviewerID='AJHL7N62ROBOQ', avg(overall)=4.777777777777778),\n",
       " Row(reviewerID='A9RSMV1C8Y8FH', avg(overall)=4.857142857142857),\n",
       " Row(reviewerID='A3NQFZIPITICVV', avg(overall)=4.142857142857143),\n",
       " Row(reviewerID='A2E3SLY7H43FON', avg(overall)=4.545454545454546),\n",
       " Row(reviewerID='A2D7QUOA1L57P1', avg(overall)=4.111111111111111),\n",
       " Row(reviewerID='A226GFM0Q9L37H', avg(overall)=4.625),\n",
       " Row(reviewerID='A3QLXP2K8G37K6', avg(overall)=4.666666666666667),\n",
       " Row(reviewerID='AY12DBB0U420B', avg(overall)=4.45),\n",
       " Row(reviewerID='A29X5S2VA01LJH', avg(overall)=4.9),\n",
       " Row(reviewerID='A191SUKZKJP1BL', avg(overall)=5.0),\n",
       " Row(reviewerID='A1422V7OFLROL', avg(overall)=3.0),\n",
       " Row(reviewerID='A2VBTN6ZR67YOF', avg(overall)=4.428571428571429),\n",
       " Row(reviewerID='ABN7G2T0KAB3G', avg(overall)=5.0),\n",
       " Row(reviewerID='A2RMHCC4VPIQ60', avg(overall)=3.2857142857142856),\n",
       " Row(reviewerID='A3IMQSE3KFFKQR', avg(overall)=4.4),\n",
       " Row(reviewerID='AZECTOVTVA5Z4', avg(overall)=4.0),\n",
       " Row(reviewerID='A8UPF5VV5G3U2', avg(overall)=5.0),\n",
       " Row(reviewerID='A3RD21P8CL5KXA', avg(overall)=4.625),\n",
       " Row(reviewerID='A388FB0J7FWGZ9', avg(overall)=5.0),\n",
       " Row(reviewerID='A15YTNAXIJB4IT', avg(overall)=5.0),\n",
       " Row(reviewerID='A2WCDQ7MRLUVK7', avg(overall)=5.0),\n",
       " Row(reviewerID='A6NSFQI4COI9T', avg(overall)=4.3),\n",
       " Row(reviewerID='A17UZAAXZ3923D', avg(overall)=4.5),\n",
       " Row(reviewerID='A2BJVSHXM137RM', avg(overall)=4.8),\n",
       " Row(reviewerID='A30XONPUQRBKEN', avg(overall)=4.2),\n",
       " Row(reviewerID='AFZEOGWDNCGDW', avg(overall)=4.4),\n",
       " Row(reviewerID='A2IFOOAY7TJFAV', avg(overall)=4.285714285714286),\n",
       " Row(reviewerID='A2XU9QGZ68P1NZ', avg(overall)=4.4),\n",
       " Row(reviewerID='AKBB93IFVIFPL', avg(overall)=4.571428571428571),\n",
       " Row(reviewerID='A35IFMQKHFY59S', avg(overall)=4.666666666666667),\n",
       " Row(reviewerID='A28WQBBSTXC0VH', avg(overall)=4.0),\n",
       " Row(reviewerID='A3CB0ULFGQWCFF', avg(overall)=4.428571428571429),\n",
       " Row(reviewerID='AG8IYOQUU2E5P', avg(overall)=4.0),\n",
       " Row(reviewerID='A3JPYYQ769BYYL', avg(overall)=3.8333333333333335),\n",
       " Row(reviewerID='A1E54IUN90VXIE', avg(overall)=5.0),\n",
       " Row(reviewerID='A2TNHRF53LC9RT', avg(overall)=2.6),\n",
       " Row(reviewerID='A1J2ADAHIJS3N2', avg(overall)=5.0),\n",
       " Row(reviewerID='A3NV1LOXMR6F7K', avg(overall)=4.714285714285714),\n",
       " Row(reviewerID='A1FV2AIBKC8U1K', avg(overall)=4.8),\n",
       " Row(reviewerID='A383M6UZM4MC76', avg(overall)=4.6),\n",
       " Row(reviewerID='AF7MRK4CQWVXB', avg(overall)=4.615384615384615),\n",
       " Row(reviewerID='ALCP5UW9GADFI', avg(overall)=2.2),\n",
       " Row(reviewerID='A1AGUB4IUV7MFU', avg(overall)=3.4),\n",
       " Row(reviewerID='A3I47WIS3G3BPH', avg(overall)=3.7142857142857144),\n",
       " Row(reviewerID='A1CQ8RM067BZ9R', avg(overall)=4.769230769230769),\n",
       " Row(reviewerID='AKHFP1INL3F8L', avg(overall)=4.6),\n",
       " Row(reviewerID='A2930D229PEUUN', avg(overall)=4.555555555555555),\n",
       " Row(reviewerID='A3NG7X4APIV649', avg(overall)=3.875),\n",
       " Row(reviewerID='A3SPQTERXFOBPG', avg(overall)=4.833333333333333),\n",
       " Row(reviewerID='A1A0TG62X92HRS', avg(overall)=4.181818181818182),\n",
       " Row(reviewerID='A23HGW8U6954DF', avg(overall)=3.4),\n",
       " Row(reviewerID='AFDRXSX0IPUJY', avg(overall)=4.2),\n",
       " Row(reviewerID='A89KFOCKCO0OA', avg(overall)=5.0),\n",
       " Row(reviewerID='A35CYV5JWJETWX', avg(overall)=4.166666666666667),\n",
       " Row(reviewerID='A3CRPB56LTN26B', avg(overall)=4.6),\n",
       " Row(reviewerID='A261ZEKT6OATPN', avg(overall)=4.6),\n",
       " Row(reviewerID='A2C05OHYJERICI', avg(overall)=4.0),\n",
       " Row(reviewerID='A2EA3GGW19OUKQ', avg(overall)=5.0),\n",
       " Row(reviewerID='A1J9T48L93OAKW', avg(overall)=3.0),\n",
       " Row(reviewerID='A9LQOZ23Z3WD2', avg(overall)=4.333333333333333),\n",
       " Row(reviewerID='AQ1VEA1RAXMJM', avg(overall)=4.5),\n",
       " Row(reviewerID='A1IQ2BN84E9QA1', avg(overall)=4.142857142857143),\n",
       " Row(reviewerID='A3SYE6NEO8VSU0', avg(overall)=4.818181818181818),\n",
       " Row(reviewerID='A2LRYVW7J4VE3P', avg(overall)=5.0),\n",
       " Row(reviewerID='A21ILD991UM01T', avg(overall)=4.818181818181818),\n",
       " Row(reviewerID='A3CEUT263RNUDO', avg(overall)=3.7142857142857144),\n",
       " Row(reviewerID='A2SQ7DGBUIAUMT', avg(overall)=4.8),\n",
       " Row(reviewerID='A2TNEYVYHY3C4C', avg(overall)=3.625),\n",
       " Row(reviewerID='A32T2H8150OJLU', avg(overall)=4.428571428571429),\n",
       " Row(reviewerID='A17LDDK445B990', avg(overall)=4.105263157894737),\n",
       " Row(reviewerID='A1T825Y8S5BRQ3', avg(overall)=4.7),\n",
       " Row(reviewerID='AI7JKTUP68K3Y', avg(overall)=4.625),\n",
       " Row(reviewerID='A2LSXLLPQR6ZSN', avg(overall)=4.5),\n",
       " Row(reviewerID='A2D66KSHQQHOSD', avg(overall)=3.5),\n",
       " Row(reviewerID='A3LV06NUWRXQWF', avg(overall)=5.0),\n",
       " Row(reviewerID='A3B5YQ4VR080CN', avg(overall)=5.0),\n",
       " Row(reviewerID='A30EPFRLFA5P92', avg(overall)=4.2),\n",
       " Row(reviewerID='A2LW5AL0KQ9P1M', avg(overall)=3.2941176470588234),\n",
       " Row(reviewerID='AVEK552RPANBO', avg(overall)=4.866666666666666),\n",
       " Row(reviewerID='A2VCXIAWCPQ13P', avg(overall)=3.85),\n",
       " Row(reviewerID='A2NM06Q2PZP2MC', avg(overall)=4.055555555555555),\n",
       " Row(reviewerID='A3HMJ0VUTM1XZT', avg(overall)=5.0),\n",
       " Row(reviewerID='A2L63MQL7HNX3B', avg(overall)=4.8),\n",
       " Row(reviewerID='A2KUM04O2ZAB6E', avg(overall)=4.2),\n",
       " Row(reviewerID='A1LWIO81Z3NLBX', avg(overall)=4.5),\n",
       " Row(reviewerID='A34SU2YNXOMCSG', avg(overall)=5.0),\n",
       " Row(reviewerID='A1RR8MILLMBI8N', avg(overall)=4.666666666666667),\n",
       " Row(reviewerID='A3171W06FF8EE6', avg(overall)=4.2),\n",
       " Row(reviewerID='A16ZFIHH9QSC0E', avg(overall)=4.428571428571429),\n",
       " Row(reviewerID='A1Q9UVHD2PGCVU', avg(overall)=4.851063829787234),\n",
       " Row(reviewerID='A3N4I8JLE6L9HS', avg(overall)=4.75),\n",
       " Row(reviewerID='A3IFDR4FUX5AIB', avg(overall)=3.6),\n",
       " Row(reviewerID='A39ON8YQHXP1MB', avg(overall)=3.7333333333333334),\n",
       " Row(reviewerID='A16N4QIGE921LK', avg(overall)=4.0),\n",
       " Row(reviewerID='A3D850PFAJVNEA', avg(overall)=4.4),\n",
       " Row(reviewerID='A32MCPM5YP62DP', avg(overall)=3.7142857142857144),\n",
       " Row(reviewerID='A4P1ZUA0W3D4P', avg(overall)=4.714285714285714),\n",
       " Row(reviewerID='A2ECM9HLMC242H', avg(overall)=3.6666666666666665),\n",
       " ...]"
      ]
     },
     "execution_count": 58,
     "metadata": {},
     "output_type": "execute_result"
    }
   ],
   "source": [
    "aggs = counts_df.groupBy('reviewerID').agg({'overall': 'mean'})\n",
    "aggs.collect()"
   ]
  },
  {
   "cell_type": "markdown",
   "metadata": {},
   "source": [
    "### A few more basic commands\n",
    "\n",
    "Please refer also to the [official programming guide](http://spark.apache.org/docs/latest/rdd-programming-guide.html)."
   ]
  },
  {
   "cell_type": "code",
   "execution_count": 59,
   "metadata": {},
   "outputs": [],
   "source": [
    "data = [1, 2, 3, 4, 5]\n",
    "distData = sc.parallelize(data)"
   ]
  },
  {
   "cell_type": "code",
   "execution_count": 60,
   "metadata": {},
   "outputs": [
    {
     "ename": "SyntaxError",
     "evalue": "invalid syntax (<ipython-input-60-8d5f5b508eb1>, line 1)",
     "output_type": "error",
     "traceback": [
      "\u001b[0;36m  File \u001b[0;32m\"<ipython-input-60-8d5f5b508eb1>\"\u001b[0;36m, line \u001b[0;32m1\u001b[0m\n\u001b[0;31m    distData.\u001b[0m\n\u001b[0m             ^\u001b[0m\n\u001b[0;31mSyntaxError\u001b[0m\u001b[0;31m:\u001b[0m invalid syntax\n"
     ]
    }
   ],
   "source": [
    "distData."
   ]
  },
  {
   "cell_type": "code",
   "execution_count": 63,
   "metadata": {},
   "outputs": [
    {
     "data": {
      "text/plain": [
       "ParallelCollectionRDD[166] at parallelize at PythonRDD.scala:195"
      ]
     },
     "execution_count": 63,
     "metadata": {},
     "output_type": "execute_result"
    }
   ],
   "source": [
    "distData"
   ]
  },
  {
   "cell_type": "code",
   "execution_count": 61,
   "metadata": {},
   "outputs": [],
   "source": [
    "def multiply(a, b):\n",
    "    return a * b"
   ]
  },
  {
   "cell_type": "code",
   "execution_count": 62,
   "metadata": {},
   "outputs": [
    {
     "data": {
      "text/plain": [
       "120"
      ]
     },
     "execution_count": 62,
     "metadata": {},
     "output_type": "execute_result"
    }
   ],
   "source": [
    "distData.reduce(multiply)"
   ]
  },
  {
   "cell_type": "code",
   "execution_count": 64,
   "metadata": {},
   "outputs": [],
   "source": [
    "def subtract1(a, b):\n",
    "    return a - b"
   ]
  },
  {
   "cell_type": "code",
   "execution_count": 65,
   "metadata": {},
   "outputs": [
    {
     "data": {
      "text/plain": [
       "-13"
      ]
     },
     "execution_count": 65,
     "metadata": {},
     "output_type": "execute_result"
    }
   ],
   "source": [
    "distData.reduce(subtract1)"
   ]
  },
  {
   "cell_type": "code",
   "execution_count": 66,
   "metadata": {},
   "outputs": [],
   "source": [
    "def subtract2(a, b):\n",
    "    return b - a"
   ]
  },
  {
   "cell_type": "code",
   "execution_count": 67,
   "metadata": {},
   "outputs": [
    {
     "data": {
      "text/plain": [
       "3"
      ]
     },
     "execution_count": 67,
     "metadata": {},
     "output_type": "execute_result"
    }
   ],
   "source": [
    "distData.reduce(subtract2)"
   ]
  },
  {
   "cell_type": "markdown",
   "metadata": {},
   "source": [
    "Can you explain these \"subtraction\" results?"
   ]
  },
  {
   "cell_type": "code",
   "execution_count": 68,
   "metadata": {},
   "outputs": [
    {
     "data": {
      "text/plain": [
       "[1, 2, 3]"
      ]
     },
     "execution_count": 68,
     "metadata": {},
     "output_type": "execute_result"
    }
   ],
   "source": [
    "distData.filter(lambda x: x < 4).collect()"
   ]
  },
  {
   "cell_type": "markdown",
   "metadata": {},
   "source": [
    "### Reading files\n",
    "\n",
    "```sc.textFile()``` for .txt files"
   ]
  },
  {
   "cell_type": "code",
   "execution_count": 78,
   "metadata": {},
   "outputs": [],
   "source": []
  },
  {
   "cell_type": "markdown",
   "metadata": {},
   "source": [
    "`.toJSON()` for .json files"
   ]
  },
  {
   "cell_type": "code",
   "execution_count": 69,
   "metadata": {},
   "outputs": [],
   "source": [
    "dfjson = counts_df.toJSON()"
   ]
  },
  {
   "cell_type": "code",
   "execution_count": 70,
   "metadata": {},
   "outputs": [],
   "source": [
    "df2 = spark.read.json(dfjson)"
   ]
  },
  {
   "cell_type": "code",
   "execution_count": 71,
   "metadata": {},
   "outputs": [
    {
     "name": "stdout",
     "output_type": "stream",
     "text": [
      "root\n",
      " |-- asin: string (nullable = true)\n",
      " |-- counts: array (nullable = true)\n",
      " |    |-- element: long (containsNull = true)\n",
      " |-- helpful: array (nullable = true)\n",
      " |    |-- element: long (containsNull = true)\n",
      " |-- overall: double (nullable = true)\n",
      " |-- reviewText: string (nullable = true)\n",
      " |-- reviewTime: string (nullable = true)\n",
      " |-- reviewerID: string (nullable = true)\n",
      " |-- reviewerName: string (nullable = true)\n",
      " |-- summary: string (nullable = true)\n",
      " |-- unixReviewTime: long (nullable = true)\n",
      "\n"
     ]
    }
   ],
   "source": [
    "df2.printSchema()"
   ]
  },
  {
   "cell_type": "code",
   "execution_count": 72,
   "metadata": {},
   "outputs": [
    {
     "data": {
      "text/plain": [
       "DataFrame[asin: string, helpful: array<bigint>, overall: double, reviewText: string, reviewTime: string, reviewerID: string, reviewerName: string, summary: string, unixReviewTime: bigint, counts: array<int>]"
      ]
     },
     "execution_count": 72,
     "metadata": {},
     "output_type": "execute_result"
    }
   ],
   "source": [
    "counts_df"
   ]
  },
  {
   "cell_type": "code",
   "execution_count": 73,
   "metadata": {},
   "outputs": [
    {
     "data": {
      "text/plain": [
       "pandas.core.frame.DataFrame"
      ]
     },
     "execution_count": 73,
     "metadata": {},
     "output_type": "execute_result"
    }
   ],
   "source": [
    "type(df.toPandas())"
   ]
  },
  {
   "cell_type": "code",
   "execution_count": 85,
   "metadata": {},
   "outputs": [],
   "source": []
  }
 ],
 "metadata": {
  "kernelspec": {
   "display_name": "Python 3",
   "language": "python",
   "name": "python3"
  },
  "language_info": {
   "codemirror_mode": {
    "name": "ipython",
    "version": 3
   },
   "file_extension": ".py",
   "mimetype": "text/x-python",
   "name": "python",
   "nbconvert_exporter": "python",
   "pygments_lexer": "ipython3",
   "version": "3.6.9"
  },
  "name": "02-spark-programming",
  "notebookId": 3907748708932973
 },
 "nbformat": 4,
 "nbformat_minor": 4
}
